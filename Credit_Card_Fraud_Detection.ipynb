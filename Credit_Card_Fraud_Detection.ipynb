{
  "nbformat": 4,
  "nbformat_minor": 0,
  "metadata": {
    "colab": {
      "name": "Credit Card Fraud Detection.ipynb",
      "version": "0.3.2",
      "provenance": [],
      "include_colab_link": true
    },
    "kernelspec": {
      "name": "python3",
      "display_name": "Python 3"
    },
    "accelerator": "GPU"
  },
  "cells": [
    {
      "cell_type": "markdown",
      "metadata": {
        "id": "view-in-github",
        "colab_type": "text"
      },
      "source": [
        "<a href=\"https://colab.research.google.com/github/Paritoshyadav/Credit-Card-Fraud-Detection./blob/master/Credit_Card_Fraud_Detection.ipynb\" target=\"_parent\"><img src=\"https://colab.research.google.com/assets/colab-badge.svg\" alt=\"Open In Colab\"/></a>"
      ]
    },
    {
      "cell_type": "code",
      "metadata": {
        "id": "9Sk8REKpD5gO",
        "colab_type": "code",
        "outputId": "cfe35e40-1314-4296-a8f6-9f87d2988757",
        "colab": {
          "base_uri": "https://localhost:8080/",
          "height": 1000
        }
      },
      "source": [
        "!apt-get update\n",
        "!apt-get upgrade"
      ],
      "execution_count": 0,
      "outputs": [
        {
          "output_type": "stream",
          "text": [
            "\r0% [Working]\r            \rIgn:1 https://developer.download.nvidia.com/compute/cuda/repos/ubuntu1804/x86_64  InRelease\n",
            "\r0% [Connecting to archive.ubuntu.com] [Connecting to security.ubuntu.com] [Conn\r                                                                               \rGet:2 https://cloud.r-project.org/bin/linux/ubuntu bionic-cran35/ InRelease [3,626 B]\n",
            "\r0% [Connecting to archive.ubuntu.com (91.189.88.24)] [Connecting to security.ub\r0% [Connecting to archive.ubuntu.com (91.189.88.24)] [Connecting to security.ub\r0% [2 InRelease gpgv 3,626 B] [Connecting to archive.ubuntu.com (91.189.88.24)]\r                                                                               \rIgn:3 https://developer.download.nvidia.com/compute/machine-learning/repos/ubuntu1804/x86_64  InRelease\n",
            "\r0% [2 InRelease gpgv 3,626 B] [Connecting to archive.ubuntu.com (91.189.88.24)]\r                                                                               \rGet:4 https://developer.download.nvidia.com/compute/cuda/repos/ubuntu1804/x86_64  Release [564 B]\n",
            "\r0% [2 InRelease gpgv 3,626 B] [Connecting to archive.ubuntu.com (91.189.88.24)]\r0% [2 InRelease gpgv 3,626 B] [Connecting to archive.ubuntu.com (91.189.88.24)]\r                                                                               \rGet:5 http://ppa.launchpad.net/graphics-drivers/ppa/ubuntu bionic InRelease [21.3 kB]\n",
            "\r0% [2 InRelease gpgv 3,626 B] [Connecting to archive.ubuntu.com (91.189.88.24)]\r                                                                               \rGet:6 https://developer.download.nvidia.com/compute/machine-learning/repos/ubuntu1804/x86_64  Release [564 B]\n",
            "\r0% [2 InRelease gpgv 3,626 B] [Connecting to archive.ubuntu.com (91.189.88.24)]\r                                                                               \rGet:7 https://developer.download.nvidia.com/compute/cuda/repos/ubuntu1804/x86_64  Release.gpg [819 B]\n",
            "\r0% [2 InRelease gpgv 3,626 B] [Connecting to archive.ubuntu.com (91.189.88.24)]\r                                                                               \rGet:8 https://developer.download.nvidia.com/compute/machine-learning/repos/ubuntu1804/x86_64  Release.gpg [833 B]\n",
            "Get:9 https://cloud.r-project.org/bin/linux/ubuntu bionic-cran35/ Packages [65.9 kB]\n",
            "Get:10 https://developer.download.nvidia.com/compute/cuda/repos/ubuntu1804/x86_64  Packages [103 kB]\n",
            "Get:11 http://security.ubuntu.com/ubuntu bionic-security InRelease [88.7 kB]\n",
            "Hit:12 http://archive.ubuntu.com/ubuntu bionic InRelease\n",
            "Get:13 https://developer.download.nvidia.com/compute/machine-learning/repos/ubuntu1804/x86_64  Packages [12.3 kB]\n",
            "Get:14 http://archive.ubuntu.com/ubuntu bionic-updates InRelease [88.7 kB]\n",
            "Get:15 http://ppa.launchpad.net/marutter/c2d4u3.5/ubuntu bionic InRelease [15.4 kB]\n",
            "Get:16 http://ppa.launchpad.net/graphics-drivers/ppa/ubuntu bionic/main amd64 Packages [29.0 kB]\n",
            "Get:17 http://security.ubuntu.com/ubuntu bionic-security/main amd64 Packages [612 kB]\n",
            "Get:18 http://archive.ubuntu.com/ubuntu bionic-backports InRelease [74.6 kB]\n",
            "Get:19 http://ppa.launchpad.net/marutter/c2d4u3.5/ubuntu bionic/main Sources [1,677 kB]\n",
            "Get:20 http://archive.ubuntu.com/ubuntu bionic-updates/restricted amd64 Packages [16.8 kB]\n",
            "Get:21 http://archive.ubuntu.com/ubuntu bionic-updates/universe amd64 Packages [1,274 kB]\n",
            "Get:22 http://security.ubuntu.com/ubuntu bionic-security/universe amd64 Packages [747 kB]\n",
            "Get:23 http://security.ubuntu.com/ubuntu bionic-security/restricted amd64 Packages [6,222 B]\n",
            "Get:24 http://security.ubuntu.com/ubuntu bionic-security/multiverse amd64 Packages [4,173 B]\n",
            "Get:25 http://archive.ubuntu.com/ubuntu bionic-updates/multiverse amd64 Packages [7,216 B]\n",
            "Get:26 http://archive.ubuntu.com/ubuntu bionic-updates/main amd64 Packages [921 kB]\n",
            "Get:27 http://archive.ubuntu.com/ubuntu bionic-backports/universe amd64 Packages [4,212 B]\n",
            "Get:28 http://ppa.launchpad.net/marutter/c2d4u3.5/ubuntu bionic/main amd64 Packages [805 kB]\n",
            "Fetched 6,580 kB in 6s (1,160 kB/s)\n",
            "Reading package lists... Done\n",
            "Reading package lists... Done\n",
            "Building dependency tree       \n",
            "Reading state information... Done\n",
            "Calculating upgrade... Done\n",
            "The following package was automatically installed and is no longer required:\n",
            "  libnvidia-common-410\n",
            "Use 'apt autoremove' to remove it.\n",
            "The following packages have been kept back:\n",
            "  cuda-drivers libcudnn7 libcudnn7-dev libnccl-dev libnccl2 libnvidia-cfg1-418\n",
            "  libnvidia-common-418 libnvidia-compute-418 libnvidia-decode-418\n",
            "  libnvidia-encode-418 libnvidia-fbc1-418 libnvidia-gl-418 libnvidia-ifr1-418\n",
            "  linux-headers-generic nvidia-compute-utils-418 nvidia-dkms-418\n",
            "  nvidia-driver-418 nvidia-kernel-common-418 nvidia-kernel-source-418\n",
            "  nvidia-utils-418 xserver-xorg-video-nvidia-418\n",
            "The following packages will be upgraded:\n",
            "  base-files cmake cmake-data dkms libegl-mesa0 libegl1-mesa-dev libgbm1\n",
            "  libgl1-mesa-dev libgl1-mesa-dri libglapi-mesa libgles2-mesa-dev libglx-mesa0\n",
            "  libinput-bin libinput10 libldap-2.4-2 libldap-common libpam-systemd\n",
            "  libpoppler73 libpq5 libsystemd0 libudev1 libxnvctrl0 linux-libc-dev\n",
            "  mesa-common-dev nvidia-modprobe nvidia-settings openjdk-11-jre\n",
            "  openjdk-11-jre-headless openjdk-8-jdk-headless openjdk-8-jre-headless\n",
            "  python3-software-properties r-cran-foreign r-cran-ggplot2 r-cran-httr\n",
            "  r-cran-knitr r-cran-markdown r-cran-modelr r-cran-nlme r-cran-pkgbuild\n",
            "  r-cran-tinytex r-cran-xml2 software-properties-common systemd systemd-sysv\n",
            "  udev\n",
            "45 upgraded, 0 newly installed, 0 to remove and 21 not upgraded.\n",
            "Need to get 103 MB of archives.\n",
            "After this operation, 1,608 kB of additional disk space will be used.\n",
            "Get:1 https://developer.download.nvidia.com/compute/cuda/repos/ubuntu1804/x86_64  libxnvctrl0 418.87.00-0ubuntu1 [19.4 kB]\n",
            "Get:2 https://developer.download.nvidia.com/compute/cuda/repos/ubuntu1804/x86_64  nvidia-settings 418.87.00-0ubuntu1 [966 kB]\n",
            "Get:3 https://developer.download.nvidia.com/compute/cuda/repos/ubuntu1804/x86_64  nvidia-modprobe 418.87.00-0ubuntu1 [19.2 kB]\n",
            "Get:4 http://ppa.launchpad.net/marutter/c2d4u3.5/ubuntu bionic/main amd64 r-cran-foreign amd64 0.8.72-1ppabionic0 [233 kB]\n",
            "Get:5 http://archive.ubuntu.com/ubuntu bionic-updates/main amd64 base-files amd64 10.1ubuntu2.6 [60.1 kB]\n",
            "Get:6 http://archive.ubuntu.com/ubuntu bionic-updates/main amd64 systemd-sysv amd64 237-3ubuntu10.25 [11.4 kB]\n",
            "Get:7 http://archive.ubuntu.com/ubuntu bionic-updates/main amd64 libpam-systemd amd64 237-3ubuntu10.25 [108 kB]\n",
            "Get:8 http://ppa.launchpad.net/marutter/c2d4u3.5/ubuntu bionic/main amd64 r-cran-ggplot2 all 3.2.1-1cran1ppabionic0 [3,773 kB]\n",
            "Get:9 http://archive.ubuntu.com/ubuntu bionic-updates/main amd64 libsystemd0 amd64 237-3ubuntu10.25 [204 kB]\n",
            "Get:10 http://archive.ubuntu.com/ubuntu bionic-updates/main amd64 systemd amd64 237-3ubuntu10.25 [2,903 kB]\n",
            "Get:11 http://archive.ubuntu.com/ubuntu bionic-updates/main amd64 udev amd64 237-3ubuntu10.25 [1,101 kB]\n",
            "Get:12 http://archive.ubuntu.com/ubuntu bionic-updates/main amd64 libudev1 amd64 237-3ubuntu10.25 [53.5 kB]\n",
            "Get:13 http://archive.ubuntu.com/ubuntu bionic-updates/main amd64 cmake amd64 3.10.2-1ubuntu2.18.04.1 [3,152 kB]\n",
            "Get:14 http://archive.ubuntu.com/ubuntu bionic-updates/main amd64 cmake-data all 3.10.2-1ubuntu2.18.04.1 [1,332 kB]\n",
            "Get:15 http://archive.ubuntu.com/ubuntu bionic-updates/main amd64 dkms all 2.3-3ubuntu9.5 [68.1 kB]\n",
            "Get:16 http://archive.ubuntu.com/ubuntu bionic-updates/main amd64 libegl-mesa0 amd64 19.0.8-0ubuntu0~18.04.1 [99.4 kB]\n",
            "Get:17 http://archive.ubuntu.com/ubuntu bionic-updates/main amd64 libgbm1 amd64 19.0.8-0ubuntu0~18.04.1 [27.9 kB]\n",
            "Get:18 http://archive.ubuntu.com/ubuntu bionic-updates/main amd64 libgl1-mesa-dri amd64 19.0.8-0ubuntu0~18.04.1 [7,499 kB]\n",
            "Get:19 http://ppa.launchpad.net/marutter/c2d4u3.5/ubuntu bionic/main amd64 r-cran-httr all 1.4.1-1cran1ppabionic0 [470 kB]\n",
            "Get:20 http://archive.ubuntu.com/ubuntu bionic-updates/main amd64 libglx-mesa0 amd64 19.0.8-0ubuntu0~18.04.1 [141 kB]\n",
            "Get:21 http://archive.ubuntu.com/ubuntu bionic-updates/main amd64 libglapi-mesa amd64 19.0.8-0ubuntu0~18.04.1 [25.1 kB]\n",
            "Get:22 http://archive.ubuntu.com/ubuntu bionic-updates/main amd64 libgl1-mesa-dev amd64 19.0.8-0ubuntu0~18.04.1 [6,044 B]\n",
            "Get:23 http://archive.ubuntu.com/ubuntu bionic-updates/main amd64 libegl1-mesa-dev amd64 19.0.8-0ubuntu0~18.04.1 [19.7 kB]\n",
            "Get:24 http://archive.ubuntu.com/ubuntu bionic-updates/main amd64 mesa-common-dev amd64 19.0.8-0ubuntu0~18.04.1 [602 kB]\n",
            "Get:25 http://archive.ubuntu.com/ubuntu bionic-updates/main amd64 libgles2-mesa-dev amd64 19.0.8-0ubuntu0~18.04.1 [43.4 kB]\n",
            "Get:26 http://archive.ubuntu.com/ubuntu bionic-updates/main amd64 libinput-bin amd64 1.10.4-1ubuntu0.18.04.1 [11.1 kB]\n",
            "Get:27 http://archive.ubuntu.com/ubuntu bionic-updates/main amd64 libinput10 amd64 1.10.4-1ubuntu0.18.04.1 [86.1 kB]\n",
            "Get:28 http://archive.ubuntu.com/ubuntu bionic-updates/main amd64 libldap-common all 2.4.45+dfsg-1ubuntu1.3 [16.9 kB]\n",
            "Get:29 http://archive.ubuntu.com/ubuntu bionic-updates/main amd64 libldap-2.4-2 amd64 2.4.45+dfsg-1ubuntu1.3 [155 kB]\n",
            "Get:30 http://archive.ubuntu.com/ubuntu bionic-updates/main amd64 libpoppler73 amd64 0.62.0-2ubuntu2.10 [800 kB]\n",
            "Get:31 http://archive.ubuntu.com/ubuntu bionic-updates/main amd64 libpq5 amd64 10.10-0ubuntu0.18.04.1 [108 kB]\n",
            "Get:32 http://archive.ubuntu.com/ubuntu bionic-updates/main amd64 linux-libc-dev amd64 4.15.0-58.64 [1,043 kB]\n",
            "Get:33 http://archive.ubuntu.com/ubuntu bionic-updates/main amd64 openjdk-11-jre amd64 11.0.4+11-1ubuntu2~18.04.3 [34.4 kB]\n",
            "Get:34 http://archive.ubuntu.com/ubuntu bionic-updates/main amd64 openjdk-11-jre-headless amd64 11.0.4+11-1ubuntu2~18.04.3 [37.4 MB]\n",
            "Get:35 http://ppa.launchpad.net/marutter/c2d4u3.5/ubuntu bionic/main amd64 r-cran-markdown amd64 1.1-1cran1ppabionic0 [117 kB]\n",
            "Get:36 http://ppa.launchpad.net/marutter/c2d4u3.5/ubuntu bionic/main amd64 r-cran-knitr all 1.24-1cran1ppabionic0 [1,161 kB]\n",
            "Get:37 http://archive.ubuntu.com/ubuntu bionic-updates/universe amd64 openjdk-8-jdk-headless amd64 8u222-b10-1ubuntu1~18.04.1 [8,267 kB]\n",
            "Get:38 http://ppa.launchpad.net/marutter/c2d4u3.5/ubuntu bionic/main amd64 r-cran-modelr all 0.1.5-1cran1ppabionic0 [200 kB]\n",
            "Get:39 http://archive.ubuntu.com/ubuntu bionic-updates/universe amd64 openjdk-8-jre-headless amd64 8u222-b10-1ubuntu1~18.04.1 [27.4 MB]\n",
            "Get:40 http://ppa.launchpad.net/marutter/c2d4u3.5/ubuntu bionic/main amd64 r-cran-nlme amd64 3.1.141-1ppabionic0 [2,238 kB]\n",
            "Get:41 http://archive.ubuntu.com/ubuntu bionic-updates/main amd64 software-properties-common all 0.96.24.32.11 [9,996 B]\n",
            "Get:42 http://archive.ubuntu.com/ubuntu bionic-updates/main amd64 python3-software-properties all 0.96.24.32.11 [23.6 kB]\n",
            "Get:43 http://ppa.launchpad.net/marutter/c2d4u3.5/ubuntu bionic/main amd64 r-cran-pkgbuild all 1.0.4-1cran1ppabionic0 [130 kB]\n",
            "Get:44 http://ppa.launchpad.net/marutter/c2d4u3.5/ubuntu bionic/main amd64 r-cran-tinytex all 0.15-1cran1ppabionic0 [97.3 kB]\n",
            "Get:45 http://ppa.launchpad.net/marutter/c2d4u3.5/ubuntu bionic/main amd64 r-cran-xml2 amd64 1.2.2-1cran1ppabionic0 [293 kB]\n",
            "Fetched 103 MB in 16s (6,400 kB/s)\n",
            "Extracting templates from packages: 100%\n",
            "(Reading database ... 131289 files and directories currently installed.)\n",
            "Preparing to unpack .../base-files_10.1ubuntu2.6_amd64.deb ...\n",
            "Unpacking base-files (10.1ubuntu2.6) over (10.1ubuntu2.5) ...\n",
            "Setting up base-files (10.1ubuntu2.6) ...\n",
            "Installing new version of config file /etc/issue ...\n",
            "Installing new version of config file /etc/issue.net ...\n",
            "Installing new version of config file /etc/lsb-release ...\n",
            "(Reading database ... 131289 files and directories currently installed.)\n",
            "Preparing to unpack .../systemd-sysv_237-3ubuntu10.25_amd64.deb ...\n",
            "Unpacking systemd-sysv (237-3ubuntu10.25) over (237-3ubuntu10.24) ...\n",
            "Preparing to unpack .../libpam-systemd_237-3ubuntu10.25_amd64.deb ...\n",
            "Unpacking libpam-systemd:amd64 (237-3ubuntu10.25) over (237-3ubuntu10.24) ...\n",
            "Preparing to unpack .../libsystemd0_237-3ubuntu10.25_amd64.deb ...\n",
            "Unpacking libsystemd0:amd64 (237-3ubuntu10.25) over (237-3ubuntu10.24) ...\n",
            "Setting up libsystemd0:amd64 (237-3ubuntu10.25) ...\n",
            "(Reading database ... 131289 files and directories currently installed.)\n",
            "Preparing to unpack .../systemd_237-3ubuntu10.25_amd64.deb ...\n",
            "Unpacking systemd (237-3ubuntu10.25) over (237-3ubuntu10.24) ...\n",
            "Preparing to unpack .../udev_237-3ubuntu10.25_amd64.deb ...\n",
            "Unpacking udev (237-3ubuntu10.25) over (237-3ubuntu10.24) ...\n",
            "Preparing to unpack .../libudev1_237-3ubuntu10.25_amd64.deb ...\n",
            "Unpacking libudev1:amd64 (237-3ubuntu10.25) over (237-3ubuntu10.24) ...\n",
            "Setting up libudev1:amd64 (237-3ubuntu10.25) ...\n",
            "(Reading database ... 131289 files and directories currently installed.)\n",
            "Preparing to unpack .../00-cmake_3.10.2-1ubuntu2.18.04.1_amd64.deb ...\n",
            "Unpacking cmake (3.10.2-1ubuntu2.18.04.1) over (3.10.2-1ubuntu2) ...\n",
            "Preparing to unpack .../01-cmake-data_3.10.2-1ubuntu2.18.04.1_all.deb ...\n",
            "Unpacking cmake-data (3.10.2-1ubuntu2.18.04.1) over (3.10.2-1ubuntu2) ...\n",
            "Preparing to unpack .../02-dkms_2.3-3ubuntu9.5_all.deb ...\n",
            "Unpacking dkms (2.3-3ubuntu9.5) over (2.3-3ubuntu9.4) ...\n",
            "Preparing to unpack .../03-libegl-mesa0_19.0.8-0ubuntu0~18.04.1_amd64.deb ...\n",
            "Unpacking libegl-mesa0:amd64 (19.0.8-0ubuntu0~18.04.1) over (19.0.2-1ubuntu1.1~18.04.2) ...\n",
            "Preparing to unpack .../04-libgbm1_19.0.8-0ubuntu0~18.04.1_amd64.deb ...\n",
            "Unpacking libgbm1:amd64 (19.0.8-0ubuntu0~18.04.1) over (19.0.2-1ubuntu1.1~18.04.2) ...\n",
            "Preparing to unpack .../05-libgl1-mesa-dri_19.0.8-0ubuntu0~18.04.1_amd64.deb ...\n",
            "Unpacking libgl1-mesa-dri:amd64 (19.0.8-0ubuntu0~18.04.1) over (19.0.2-1ubuntu1.1~18.04.2) ...\n",
            "Preparing to unpack .../06-libglx-mesa0_19.0.8-0ubuntu0~18.04.1_amd64.deb ...\n",
            "Unpacking libglx-mesa0:amd64 (19.0.8-0ubuntu0~18.04.1) over (19.0.2-1ubuntu1.1~18.04.2) ...\n",
            "Preparing to unpack .../07-libglapi-mesa_19.0.8-0ubuntu0~18.04.1_amd64.deb ...\n",
            "Unpacking libglapi-mesa:amd64 (19.0.8-0ubuntu0~18.04.1) over (19.0.2-1ubuntu1.1~18.04.2) ...\n",
            "Preparing to unpack .../08-libgl1-mesa-dev_19.0.8-0ubuntu0~18.04.1_amd64.deb ...\n",
            "Unpacking libgl1-mesa-dev:amd64 (19.0.8-0ubuntu0~18.04.1) over (19.0.2-1ubuntu1.1~18.04.2) ...\n",
            "Preparing to unpack .../09-libegl1-mesa-dev_19.0.8-0ubuntu0~18.04.1_amd64.deb ...\n",
            "Unpacking libegl1-mesa-dev:amd64 (19.0.8-0ubuntu0~18.04.1) over (19.0.2-1ubuntu1.1~18.04.2) ...\n",
            "Preparing to unpack .../10-mesa-common-dev_19.0.8-0ubuntu0~18.04.1_amd64.deb ...\n",
            "Unpacking mesa-common-dev:amd64 (19.0.8-0ubuntu0~18.04.1) over (19.0.2-1ubuntu1.1~18.04.2) ...\n",
            "Preparing to unpack .../11-libgles2-mesa-dev_19.0.8-0ubuntu0~18.04.1_amd64.deb ...\n",
            "Unpacking libgles2-mesa-dev:amd64 (19.0.8-0ubuntu0~18.04.1) over (19.0.2-1ubuntu1.1~18.04.2) ...\n",
            "Preparing to unpack .../12-libinput-bin_1.10.4-1ubuntu0.18.04.1_amd64.deb ...\n",
            "Unpacking libinput-bin (1.10.4-1ubuntu0.18.04.1) over (1.10.4-1) ...\n",
            "Preparing to unpack .../13-libinput10_1.10.4-1ubuntu0.18.04.1_amd64.deb ...\n",
            "Unpacking libinput10:amd64 (1.10.4-1ubuntu0.18.04.1) over (1.10.4-1) ...\n",
            "Preparing to unpack .../14-libldap-common_2.4.45+dfsg-1ubuntu1.3_all.deb ...\n",
            "Unpacking libldap-common (2.4.45+dfsg-1ubuntu1.3) over (2.4.45+dfsg-1ubuntu1.2) ...\n",
            "Preparing to unpack .../15-libldap-2.4-2_2.4.45+dfsg-1ubuntu1.3_amd64.deb ...\n",
            "Unpacking libldap-2.4-2:amd64 (2.4.45+dfsg-1ubuntu1.3) over (2.4.45+dfsg-1ubuntu1.2) ...\n",
            "Preparing to unpack .../16-libpoppler73_0.62.0-2ubuntu2.10_amd64.deb ...\n",
            "Unpacking libpoppler73:amd64 (0.62.0-2ubuntu2.10) over (0.62.0-2ubuntu2.9) ...\n",
            "Preparing to unpack .../17-libpq5_10.10-0ubuntu0.18.04.1_amd64.deb ...\n",
            "Unpacking libpq5:amd64 (10.10-0ubuntu0.18.04.1) over (10.9-0ubuntu0.18.04.1) ...\n",
            "Preparing to unpack .../18-libxnvctrl0_418.87.00-0ubuntu1_amd64.deb ...\n",
            "Unpacking libxnvctrl0:amd64 (418.87.00-0ubuntu1) over (418.67-0ubuntu1) ...\n",
            "Preparing to unpack .../19-linux-libc-dev_4.15.0-58.64_amd64.deb ...\n",
            "Unpacking linux-libc-dev:amd64 (4.15.0-58.64) over (4.15.0-55.60) ...\n",
            "Preparing to unpack .../20-nvidia-settings_418.87.00-0ubuntu1_amd64.deb ...\n",
            "Unpacking nvidia-settings (418.87.00-0ubuntu1) over (418.67-0ubuntu1) ...\n",
            "Preparing to unpack .../21-openjdk-11-jre_11.0.4+11-1ubuntu2~18.04.3_amd64.deb ...\n",
            "Unpacking openjdk-11-jre:amd64 (11.0.4+11-1ubuntu2~18.04.3) over (11.0.3+7-1ubuntu2~18.04.1) ...\n",
            "Preparing to unpack .../22-openjdk-11-jre-headless_11.0.4+11-1ubuntu2~18.04.3_amd64.deb ...\n",
            "Unpacking openjdk-11-jre-headless:amd64 (11.0.4+11-1ubuntu2~18.04.3) over (11.0.3+7-1ubuntu2~18.04.1) ...\n",
            "Preparing to unpack .../23-openjdk-8-jdk-headless_8u222-b10-1ubuntu1~18.04.1_amd64.deb ...\n",
            "Unpacking openjdk-8-jdk-headless:amd64 (8u222-b10-1ubuntu1~18.04.1) over (8u212-b03-0ubuntu1.18.04.1) ...\n",
            "Preparing to unpack .../24-openjdk-8-jre-headless_8u222-b10-1ubuntu1~18.04.1_amd64.deb ...\n",
            "Unpacking openjdk-8-jre-headless:amd64 (8u222-b10-1ubuntu1~18.04.1) over (8u212-b03-0ubuntu1.18.04.1) ...\n",
            "Preparing to unpack .../25-software-properties-common_0.96.24.32.11_all.deb ...\n",
            "Unpacking software-properties-common (0.96.24.32.11) over (0.96.24.32.9) ...\n",
            "Preparing to unpack .../26-python3-software-properties_0.96.24.32.11_all.deb ...\n",
            "Unpacking python3-software-properties (0.96.24.32.11) over (0.96.24.32.9) ...\n",
            "Preparing to unpack .../27-r-cran-foreign_0.8.72-1ppabionic0_amd64.deb ...\n",
            "Unpacking r-cran-foreign (0.8.72-1ppabionic0) over (0.8.71-3cranppa0bionic0) ...\n",
            "Preparing to unpack .../28-r-cran-ggplot2_3.2.1-1cran1ppabionic0_all.deb ...\n",
            "Unpacking r-cran-ggplot2 (3.2.1-1cran1ppabionic0) over (3.2.0-1cran1ppabionic0) ...\n",
            "Preparing to unpack .../29-r-cran-httr_1.4.1-1cran1ppabionic0_all.deb ...\n",
            "Unpacking r-cran-httr (1.4.1-1cran1ppabionic0) over (1.4.0-1cran1ppabionic0) ...\n",
            "Preparing to unpack .../30-r-cran-markdown_1.1-1cran1ppabionic0_amd64.deb ...\n",
            "Unpacking r-cran-markdown (1.1-1cran1ppabionic0) over (1.0-1cran1~ubuntu18.04.1~ppa1) ...\n",
            "Preparing to unpack .../31-r-cran-knitr_1.24-1cran1ppabionic0_all.deb ...\n",
            "Unpacking r-cran-knitr (1.24-1cran1ppabionic0) over (1.23-1cran1ppabionic0) ...\n",
            "Preparing to unpack .../32-r-cran-modelr_0.1.5-1cran1ppabionic0_all.deb ...\n",
            "Unpacking r-cran-modelr (0.1.5-1cran1ppabionic0) over (0.1.4-1cran1ppabionic0) ...\n",
            "Preparing to unpack .../33-r-cran-nlme_3.1.141-1ppabionic0_amd64.deb ...\n",
            "Unpacking r-cran-nlme (3.1.141-1ppabionic0) over (3.1.140-1ppabionic0) ...\n",
            "Preparing to unpack .../34-r-cran-pkgbuild_1.0.4-1cran1ppabionic0_all.deb ...\n",
            "Unpacking r-cran-pkgbuild (1.0.4-1cran1ppabionic0) over (1.0.3-1cran1ppabionic0) ...\n",
            "Preparing to unpack .../35-r-cran-tinytex_0.15-1cran1ppabionic0_all.deb ...\n",
            "Unpacking r-cran-tinytex (0.15-1cran1ppabionic0) over (0.14-1cran1ppabionic0) ...\n",
            "Preparing to unpack .../36-r-cran-xml2_1.2.2-1cran1ppabionic0_amd64.deb ...\n",
            "Unpacking r-cran-xml2 (1.2.2-1cran1ppabionic0) over (1.2.1-1cran1ppabionic0) ...\n",
            "Preparing to unpack .../37-nvidia-modprobe_418.87.00-0ubuntu1_amd64.deb ...\n",
            "Unpacking nvidia-modprobe (418.87.00-0ubuntu1) over (418.67-0ubuntu1) ...\n",
            "Setting up r-cran-tinytex (0.15-1cran1ppabionic0) ...\n",
            "Setting up mesa-common-dev:amd64 (19.0.8-0ubuntu0~18.04.1) ...\n",
            "Processing triggers for mime-support (3.60ubuntu1) ...\n",
            "Setting up libldap-common (2.4.45+dfsg-1ubuntu1.3) ...\n",
            "Setting up r-cran-nlme (3.1.141-1ppabionic0) ...\n",
            "Setting up libgbm1:amd64 (19.0.8-0ubuntu0~18.04.1) ...\n",
            "Setting up r-cran-foreign (0.8.72-1ppabionic0) ...\n",
            "Setting up linux-libc-dev:amd64 (4.15.0-58.64) ...\n",
            "Setting up openjdk-11-jre-headless:amd64 (11.0.4+11-1ubuntu2~18.04.3) ...\n",
            "Installing new version of config file /etc/java-11-openjdk/security/default.policy ...\n",
            "Installing new version of config file /etc/java-11-openjdk/security/public_suffix_list.dat ...\n",
            "Setting up cmake-data (3.10.2-1ubuntu2.18.04.1) ...\n",
            "Setting up libglapi-mesa:amd64 (19.0.8-0ubuntu0~18.04.1) ...\n",
            "Setting up libinput-bin (1.10.4-1ubuntu0.18.04.1) ...\n",
            "Setting up r-cran-markdown (1.1-1cran1ppabionic0) ...\n",
            "Setting up r-cran-modelr (0.1.5-1cran1ppabionic0) ...\n",
            "Setting up libpoppler73:amd64 (0.62.0-2ubuntu2.10) ...\n",
            "Setting up libgl1-mesa-dev:amd64 (19.0.8-0ubuntu0~18.04.1) ...\n",
            "Setting up dkms (2.3-3ubuntu9.5) ...\n",
            "Processing triggers for libc-bin (2.27-3ubuntu1) ...\n",
            "Setting up udev (237-3ubuntu10.25) ...\n",
            "invoke-rc.d: could not determine current runlevel\n",
            "invoke-rc.d: policy-rc.d denied execution of restart.\n",
            "Setting up libldap-2.4-2:amd64 (2.4.45+dfsg-1ubuntu1.3) ...\n",
            "Setting up systemd (237-3ubuntu10.25) ...\n",
            "Setting up libegl1-mesa-dev:amd64 (19.0.8-0ubuntu0~18.04.1) ...\n",
            "Setting up nvidia-modprobe (418.87.00-0ubuntu1) ...\n",
            "Processing triggers for man-db (2.8.3-2ubuntu0.1) ...\n",
            "Setting up python3-software-properties (0.96.24.32.11) ...\n",
            "Setting up r-cran-ggplot2 (3.2.1-1cran1ppabionic0) ...\n",
            "Setting up libegl-mesa0:amd64 (19.0.8-0ubuntu0~18.04.1) ...\n",
            "Processing triggers for dbus (1.12.2-1ubuntu1.1) ...\n",
            "Setting up r-cran-xml2 (1.2.2-1cran1ppabionic0) ...\n",
            "Setting up cmake (3.10.2-1ubuntu2.18.04.1) ...\n",
            "Setting up r-cran-pkgbuild (1.0.4-1cran1ppabionic0) ...\n",
            "Processing triggers for hicolor-icon-theme (0.17-2) ...\n",
            "Setting up libxnvctrl0:amd64 (418.87.00-0ubuntu1) ...\n",
            "Setting up r-cran-httr (1.4.1-1cran1ppabionic0) ...\n",
            "Setting up openjdk-8-jre-headless:amd64 (8u222-b10-1ubuntu1~18.04.1) ...\n",
            "Setting up openjdk-11-jre:amd64 (11.0.4+11-1ubuntu2~18.04.3) ...\n",
            "Setting up software-properties-common (0.96.24.32.11) ...\n",
            "Setting up openjdk-8-jdk-headless:amd64 (8u222-b10-1ubuntu1~18.04.1) ...\n",
            "Setting up systemd-sysv (237-3ubuntu10.25) ...\n",
            "Setting up r-cran-knitr (1.24-1cran1ppabionic0) ...\n",
            "Setting up libgles2-mesa-dev:amd64 (19.0.8-0ubuntu0~18.04.1) ...\n",
            "Setting up libinput10:amd64 (1.10.4-1ubuntu0.18.04.1) ...\n",
            "Setting up libgl1-mesa-dri:amd64 (19.0.8-0ubuntu0~18.04.1) ...\n",
            "Setting up nvidia-settings (418.87.00-0ubuntu1) ...\n",
            "Setting up libpq5:amd64 (10.10-0ubuntu0.18.04.1) ...\n",
            "Setting up libglx-mesa0:amd64 (19.0.8-0ubuntu0~18.04.1) ...\n",
            "Setting up libpam-systemd:amd64 (237-3ubuntu10.25) ...\n",
            "Processing triggers for libc-bin (2.27-3ubuntu1) ...\n"
          ],
          "name": "stdout"
        }
      ]
    },
    {
      "cell_type": "code",
      "metadata": {
        "id": "o-2o1xQXEUFa",
        "colab_type": "code",
        "colab": {}
      },
      "source": [
        "!pip install -q kaggle"
      ],
      "execution_count": 0,
      "outputs": []
    },
    {
      "cell_type": "code",
      "metadata": {
        "id": "4mu7ZJXljxat",
        "colab_type": "code",
        "colab": {}
      },
      "source": [
        "!mkdir -p ~/.kaggle\n",
        "!cp kaggle.json ~/.kaggle/"
      ],
      "execution_count": 0,
      "outputs": []
    },
    {
      "cell_type": "code",
      "metadata": {
        "id": "TPP3AOFXmG27",
        "colab_type": "code",
        "colab": {}
      },
      "source": [
        "!chmod 600 ~/.kaggle/kaggle.json"
      ],
      "execution_count": 0,
      "outputs": []
    },
    {
      "cell_type": "code",
      "metadata": {
        "id": "Rn3S1VGijxdj",
        "colab_type": "code",
        "outputId": "3fefe5c0-a930-4d73-b4c8-6174bd6bd40b",
        "colab": {
          "base_uri": "https://localhost:8080/",
          "height": 411
        }
      },
      "source": [
        "!kaggle datasets list"
      ],
      "execution_count": 0,
      "outputs": [
        {
          "output_type": "stream",
          "text": [
            "ref                                                         title                                                size  lastUpdated          downloadCount  \n",
            "----------------------------------------------------------  --------------------------------------------------  -----  -------------------  -------------  \n",
            "AnalyzeBoston/crimes-in-boston                              Crimes in Boston                                     10MB  2018-09-04 17:56:03           9140  \n",
            "matheusfreitag/gas-prices-in-brazil                         Gas Prices in Brazil                                  3MB  2019-07-12 16:23:52           5010  \n",
            "jealousleopard/goodreadsbooks                               Goodreads-books                                     632KB  2019-06-14 16:35:05           8684  \n",
            "wkirgsn/electric-motor-temperature                          Electric Motor Temperature                           47MB  2019-06-19 11:12:41           3298  \n",
            "jolasa/waves-measuring-buoys-data-mooloolaba                Waves Measuring Buoys Data                          599KB  2019-07-07 16:59:44            967  \n",
            "sudalairajkumar/chennai-water-management                    Chennai Water Management                             75KB  2019-06-19 03:42:44           6058  \n",
            "doit-intl/autotel-shared-car-locations                      Shared Cars Locations                                78MB  2019-01-10 13:06:00           1021  \n",
            "eliasdabbas/search-engine-results-flights-tickets-keywords  Search Engine Results - Flights & Tickets Keywords   24MB  2019-08-15 13:12:18           1971  \n",
            "r3w0p4/recorded-crime-data-at-police-force-area-level       Recorded Crime Data at the Police Force Area Level  300KB  2019-06-21 15:16:46           1753  \n",
            "new-york-city/new-york-city-current-job-postings            New York City Current Job Postings                    3MB  2019-08-11 22:05:11           7234  \n",
            "r3w0p4/bournemouth-venues                                   Venues in Bournemouth                                 3KB  2019-07-08 14:26:48            640  \n",
            "Madgrades/uw-madison-courses                                UW Madison Courses and Grades 2006-2017              90MB  2018-05-15 18:58:25           1256  \n",
            "datafiniti/womens-shoes-prices                              Women's Shoe Prices                                  12MB  2019-06-24 22:50:14          10462  \n",
            "datafiniti/pizza-restaurants-and-the-pizza-they-sell        Pizza Restaurants and the Pizza They Sell           850KB  2019-05-30 00:21:21           5178  \n",
            "citylines/city-lines                                        Transit systems of world                              3MB  2019-03-25 16:53:05           1845  \n",
            "citizen-ds-ghana/health-facilities-gh                       Ghana Health Facilities                              84KB  2018-09-03 01:19:24            832  \n",
            "inIT-OWL/vega-shrinkwrapper-runtofailure-data               Vega shrink-wrapper component degradation           408KB  2018-11-12 13:03:43            258  \n",
            "university-of-edinburgh/peace-agreements-dataset            Peace Agreements Dataset                              1MB  2018-03-05 16:39:50            606  \n",
            "lakshyaag/india-trade-data                                  India - Trade Data                                    1MB  2019-08-16 16:13:58             46  \n",
            "google/google-landmarks-dataset                             Google-Landmarks Dataset                            107MB  2019-08-16 12:00:32          11298  \n"
          ],
          "name": "stdout"
        }
      ]
    },
    {
      "cell_type": "code",
      "metadata": {
        "id": "DxwRXHksjxgO",
        "colab_type": "code",
        "outputId": "b40f62fc-6924-40ca-f73f-e93b55f1afe6",
        "colab": {
          "base_uri": "https://localhost:8080/",
          "height": 68
        }
      },
      "source": [
        "!kaggle datasets download -d mlg-ulb/creditcardfraud"
      ],
      "execution_count": 0,
      "outputs": [
        {
          "output_type": "stream",
          "text": [
            "Downloading creditcardfraud.zip to /content\n",
            " 86% 57.0M/66.0M [00:00<00:00, 69.0MB/s]\n",
            "100% 66.0M/66.0M [00:00<00:00, 84.7MB/s]\n"
          ],
          "name": "stdout"
        }
      ]
    },
    {
      "cell_type": "code",
      "metadata": {
        "id": "Ogmcs7zbjxi6",
        "colab_type": "code",
        "outputId": "0575c4bd-0ffb-457d-c223-ae55246a069a",
        "colab": {
          "base_uri": "https://localhost:8080/",
          "height": 51
        }
      },
      "source": [
        "!unzip creditcardfraud.zip"
      ],
      "execution_count": 0,
      "outputs": [
        {
          "output_type": "stream",
          "text": [
            "Archive:  creditcardfraud.zip\n",
            "  inflating: creditcard.csv          \n"
          ],
          "name": "stdout"
        }
      ]
    },
    {
      "cell_type": "code",
      "metadata": {
        "id": "hHXPWpyxjxlb",
        "colab_type": "code",
        "colab": {}
      },
      "source": [
        "import pandas as pd\n",
        "import matplotlib.pyplot as plt\n",
        "import seaborn as sns\n",
        "import numpy as np"
      ],
      "execution_count": 0,
      "outputs": []
    },
    {
      "cell_type": "code",
      "metadata": {
        "id": "RUXH8hpDjxnz",
        "colab_type": "code",
        "colab": {}
      },
      "source": [
        "dataset=pd.read_csv('creditcard.csv')"
      ],
      "execution_count": 0,
      "outputs": []
    },
    {
      "cell_type": "code",
      "metadata": {
        "id": "RviCEz8DjxqW",
        "colab_type": "code",
        "outputId": "a973b05b-a308-4122-a8f8-36b2aa272a17",
        "colab": {
          "base_uri": "https://localhost:8080/",
          "height": 224
        }
      },
      "source": [
        "dataset.head()"
      ],
      "execution_count": 0,
      "outputs": [
        {
          "output_type": "execute_result",
          "data": {
            "text/html": [
              "<div>\n",
              "<style scoped>\n",
              "    .dataframe tbody tr th:only-of-type {\n",
              "        vertical-align: middle;\n",
              "    }\n",
              "\n",
              "    .dataframe tbody tr th {\n",
              "        vertical-align: top;\n",
              "    }\n",
              "\n",
              "    .dataframe thead th {\n",
              "        text-align: right;\n",
              "    }\n",
              "</style>\n",
              "<table border=\"1\" class=\"dataframe\">\n",
              "  <thead>\n",
              "    <tr style=\"text-align: right;\">\n",
              "      <th></th>\n",
              "      <th>Time</th>\n",
              "      <th>V1</th>\n",
              "      <th>V2</th>\n",
              "      <th>V3</th>\n",
              "      <th>V4</th>\n",
              "      <th>V5</th>\n",
              "      <th>V6</th>\n",
              "      <th>V7</th>\n",
              "      <th>V8</th>\n",
              "      <th>V9</th>\n",
              "      <th>V10</th>\n",
              "      <th>V11</th>\n",
              "      <th>V12</th>\n",
              "      <th>V13</th>\n",
              "      <th>V14</th>\n",
              "      <th>V15</th>\n",
              "      <th>V16</th>\n",
              "      <th>V17</th>\n",
              "      <th>V18</th>\n",
              "      <th>V19</th>\n",
              "      <th>V20</th>\n",
              "      <th>V21</th>\n",
              "      <th>V22</th>\n",
              "      <th>V23</th>\n",
              "      <th>V24</th>\n",
              "      <th>V25</th>\n",
              "      <th>V26</th>\n",
              "      <th>V27</th>\n",
              "      <th>V28</th>\n",
              "      <th>Amount</th>\n",
              "      <th>Class</th>\n",
              "    </tr>\n",
              "  </thead>\n",
              "  <tbody>\n",
              "    <tr>\n",
              "      <th>0</th>\n",
              "      <td>0.0</td>\n",
              "      <td>-1.359807</td>\n",
              "      <td>-0.072781</td>\n",
              "      <td>2.536347</td>\n",
              "      <td>1.378155</td>\n",
              "      <td>-0.338321</td>\n",
              "      <td>0.462388</td>\n",
              "      <td>0.239599</td>\n",
              "      <td>0.098698</td>\n",
              "      <td>0.363787</td>\n",
              "      <td>0.090794</td>\n",
              "      <td>-0.551600</td>\n",
              "      <td>-0.617801</td>\n",
              "      <td>-0.991390</td>\n",
              "      <td>-0.311169</td>\n",
              "      <td>1.468177</td>\n",
              "      <td>-0.470401</td>\n",
              "      <td>0.207971</td>\n",
              "      <td>0.025791</td>\n",
              "      <td>0.403993</td>\n",
              "      <td>0.251412</td>\n",
              "      <td>-0.018307</td>\n",
              "      <td>0.277838</td>\n",
              "      <td>-0.110474</td>\n",
              "      <td>0.066928</td>\n",
              "      <td>0.128539</td>\n",
              "      <td>-0.189115</td>\n",
              "      <td>0.133558</td>\n",
              "      <td>-0.021053</td>\n",
              "      <td>149.62</td>\n",
              "      <td>0</td>\n",
              "    </tr>\n",
              "    <tr>\n",
              "      <th>1</th>\n",
              "      <td>0.0</td>\n",
              "      <td>1.191857</td>\n",
              "      <td>0.266151</td>\n",
              "      <td>0.166480</td>\n",
              "      <td>0.448154</td>\n",
              "      <td>0.060018</td>\n",
              "      <td>-0.082361</td>\n",
              "      <td>-0.078803</td>\n",
              "      <td>0.085102</td>\n",
              "      <td>-0.255425</td>\n",
              "      <td>-0.166974</td>\n",
              "      <td>1.612727</td>\n",
              "      <td>1.065235</td>\n",
              "      <td>0.489095</td>\n",
              "      <td>-0.143772</td>\n",
              "      <td>0.635558</td>\n",
              "      <td>0.463917</td>\n",
              "      <td>-0.114805</td>\n",
              "      <td>-0.183361</td>\n",
              "      <td>-0.145783</td>\n",
              "      <td>-0.069083</td>\n",
              "      <td>-0.225775</td>\n",
              "      <td>-0.638672</td>\n",
              "      <td>0.101288</td>\n",
              "      <td>-0.339846</td>\n",
              "      <td>0.167170</td>\n",
              "      <td>0.125895</td>\n",
              "      <td>-0.008983</td>\n",
              "      <td>0.014724</td>\n",
              "      <td>2.69</td>\n",
              "      <td>0</td>\n",
              "    </tr>\n",
              "    <tr>\n",
              "      <th>2</th>\n",
              "      <td>1.0</td>\n",
              "      <td>-1.358354</td>\n",
              "      <td>-1.340163</td>\n",
              "      <td>1.773209</td>\n",
              "      <td>0.379780</td>\n",
              "      <td>-0.503198</td>\n",
              "      <td>1.800499</td>\n",
              "      <td>0.791461</td>\n",
              "      <td>0.247676</td>\n",
              "      <td>-1.514654</td>\n",
              "      <td>0.207643</td>\n",
              "      <td>0.624501</td>\n",
              "      <td>0.066084</td>\n",
              "      <td>0.717293</td>\n",
              "      <td>-0.165946</td>\n",
              "      <td>2.345865</td>\n",
              "      <td>-2.890083</td>\n",
              "      <td>1.109969</td>\n",
              "      <td>-0.121359</td>\n",
              "      <td>-2.261857</td>\n",
              "      <td>0.524980</td>\n",
              "      <td>0.247998</td>\n",
              "      <td>0.771679</td>\n",
              "      <td>0.909412</td>\n",
              "      <td>-0.689281</td>\n",
              "      <td>-0.327642</td>\n",
              "      <td>-0.139097</td>\n",
              "      <td>-0.055353</td>\n",
              "      <td>-0.059752</td>\n",
              "      <td>378.66</td>\n",
              "      <td>0</td>\n",
              "    </tr>\n",
              "    <tr>\n",
              "      <th>3</th>\n",
              "      <td>1.0</td>\n",
              "      <td>-0.966272</td>\n",
              "      <td>-0.185226</td>\n",
              "      <td>1.792993</td>\n",
              "      <td>-0.863291</td>\n",
              "      <td>-0.010309</td>\n",
              "      <td>1.247203</td>\n",
              "      <td>0.237609</td>\n",
              "      <td>0.377436</td>\n",
              "      <td>-1.387024</td>\n",
              "      <td>-0.054952</td>\n",
              "      <td>-0.226487</td>\n",
              "      <td>0.178228</td>\n",
              "      <td>0.507757</td>\n",
              "      <td>-0.287924</td>\n",
              "      <td>-0.631418</td>\n",
              "      <td>-1.059647</td>\n",
              "      <td>-0.684093</td>\n",
              "      <td>1.965775</td>\n",
              "      <td>-1.232622</td>\n",
              "      <td>-0.208038</td>\n",
              "      <td>-0.108300</td>\n",
              "      <td>0.005274</td>\n",
              "      <td>-0.190321</td>\n",
              "      <td>-1.175575</td>\n",
              "      <td>0.647376</td>\n",
              "      <td>-0.221929</td>\n",
              "      <td>0.062723</td>\n",
              "      <td>0.061458</td>\n",
              "      <td>123.50</td>\n",
              "      <td>0</td>\n",
              "    </tr>\n",
              "    <tr>\n",
              "      <th>4</th>\n",
              "      <td>2.0</td>\n",
              "      <td>-1.158233</td>\n",
              "      <td>0.877737</td>\n",
              "      <td>1.548718</td>\n",
              "      <td>0.403034</td>\n",
              "      <td>-0.407193</td>\n",
              "      <td>0.095921</td>\n",
              "      <td>0.592941</td>\n",
              "      <td>-0.270533</td>\n",
              "      <td>0.817739</td>\n",
              "      <td>0.753074</td>\n",
              "      <td>-0.822843</td>\n",
              "      <td>0.538196</td>\n",
              "      <td>1.345852</td>\n",
              "      <td>-1.119670</td>\n",
              "      <td>0.175121</td>\n",
              "      <td>-0.451449</td>\n",
              "      <td>-0.237033</td>\n",
              "      <td>-0.038195</td>\n",
              "      <td>0.803487</td>\n",
              "      <td>0.408542</td>\n",
              "      <td>-0.009431</td>\n",
              "      <td>0.798278</td>\n",
              "      <td>-0.137458</td>\n",
              "      <td>0.141267</td>\n",
              "      <td>-0.206010</td>\n",
              "      <td>0.502292</td>\n",
              "      <td>0.219422</td>\n",
              "      <td>0.215153</td>\n",
              "      <td>69.99</td>\n",
              "      <td>0</td>\n",
              "    </tr>\n",
              "  </tbody>\n",
              "</table>\n",
              "</div>"
            ],
            "text/plain": [
              "   Time        V1        V2        V3  ...       V27       V28  Amount  Class\n",
              "0   0.0 -1.359807 -0.072781  2.536347  ...  0.133558 -0.021053  149.62      0\n",
              "1   0.0  1.191857  0.266151  0.166480  ... -0.008983  0.014724    2.69      0\n",
              "2   1.0 -1.358354 -1.340163  1.773209  ... -0.055353 -0.059752  378.66      0\n",
              "3   1.0 -0.966272 -0.185226  1.792993  ...  0.062723  0.061458  123.50      0\n",
              "4   2.0 -1.158233  0.877737  1.548718  ...  0.219422  0.215153   69.99      0\n",
              "\n",
              "[5 rows x 31 columns]"
            ]
          },
          "metadata": {
            "tags": []
          },
          "execution_count": 10
        }
      ]
    },
    {
      "cell_type": "code",
      "metadata": {
        "id": "twlgcDtHjxtG",
        "colab_type": "code",
        "outputId": "efdbe801-2808-475f-d7c6-dcb2d01b8412",
        "colab": {
          "base_uri": "https://localhost:8080/",
          "height": 68
        }
      },
      "source": [
        "dataset.Class.value_counts()"
      ],
      "execution_count": 0,
      "outputs": [
        {
          "output_type": "execute_result",
          "data": {
            "text/plain": [
              "0    284315\n",
              "1       492\n",
              "Name: Class, dtype: int64"
            ]
          },
          "metadata": {
            "tags": []
          },
          "execution_count": 72
        }
      ]
    },
    {
      "cell_type": "markdown",
      "metadata": {
        "id": "bpGic9QJrYWt",
        "colab_type": "text"
      },
      "source": [
        "speechless imbalance...... highly skewed\n",
        "0.172% fraud cases\n"
      ]
    },
    {
      "cell_type": "code",
      "metadata": {
        "id": "EI57sFwqjxv1",
        "colab_type": "code",
        "outputId": "21c57f1a-254e-4517-f474-e39ef9d3f154",
        "colab": {
          "base_uri": "https://localhost:8080/",
          "height": 337
        }
      },
      "source": [
        "plt.hist(dataset['Class'])"
      ],
      "execution_count": 0,
      "outputs": [
        {
          "output_type": "execute_result",
          "data": {
            "text/plain": [
              "(array([284315.,      0.,      0.,      0.,      0.,      0.,      0.,\n",
              "             0.,      0.,    492.]),\n",
              " array([0. , 0.1, 0.2, 0.3, 0.4, 0.5, 0.6, 0.7, 0.8, 0.9, 1. ]),\n",
              " <a list of 10 Patch objects>)"
            ]
          },
          "metadata": {
            "tags": []
          },
          "execution_count": 13
        },
        {
          "output_type": "display_data",
          "data": {
            "image/png": "[encoded data removed]",
            "text/plain": [
              "<Figure size 432x288 with 1 Axes>"
            ]
          },
          "metadata": {
            "tags": []
          }
        }
      ]
    },
    {
      "cell_type": "code",
      "metadata": {
        "id": "23b2xikXswFf",
        "colab_type": "code",
        "outputId": "58f93a13-24a4-4e5b-ebd1-4b9ef71aca03",
        "colab": {
          "base_uri": "https://localhost:8080/",
          "height": 300
        }
      },
      "source": [
        "sns.distplot(dataset['Class'], kde=False, rug=True)"
      ],
      "execution_count": 0,
      "outputs": [
        {
          "output_type": "execute_result",
          "data": {
            "text/plain": [
              "<matplotlib.axes._subplots.AxesSubplot at 0x7f18c08b7630>"
            ]
          },
          "metadata": {
            "tags": []
          },
          "execution_count": 14
        },
        {
          "output_type": "display_data",
          "data": {
            "image/png": "[encoded data removed]",
            "text/plain": [
              "<Figure size 432x288 with 1 Axes>"
            ]
          },
          "metadata": {
            "tags": []
          }
        }
      ]
    },
    {
      "cell_type": "code",
      "metadata": {
        "id": "ffPTN04as3v_",
        "colab_type": "code",
        "colab": {}
      },
      "source": [
        "from sklearn.preprocessing import StandardScaler"
      ],
      "execution_count": 0,
      "outputs": []
    },
    {
      "cell_type": "code",
      "metadata": {
        "id": "j8-bYwqiteCA",
        "colab_type": "code",
        "colab": {}
      },
      "source": [
        "sc= StandardScaler()\n",
        "dataset['scaledAmount']=sc.fit_transform(dataset['Amount'].values.reshape(-1,1))"
      ],
      "execution_count": 0,
      "outputs": []
    },
    {
      "cell_type": "code",
      "metadata": {
        "id": "OvAz5EoTt4PP",
        "colab_type": "code",
        "outputId": "47d7f0ac-d778-4a80-b7dd-2b755dea9a33",
        "colab": {
          "base_uri": "https://localhost:8080/",
          "height": 224
        }
      },
      "source": [
        "dataset.head()"
      ],
      "execution_count": 0,
      "outputs": [
        {
          "output_type": "execute_result",
          "data": {
            "text/html": [
              "<div>\n",
              "<style scoped>\n",
              "    .dataframe tbody tr th:only-of-type {\n",
              "        vertical-align: middle;\n",
              "    }\n",
              "\n",
              "    .dataframe tbody tr th {\n",
              "        vertical-align: top;\n",
              "    }\n",
              "\n",
              "    .dataframe thead th {\n",
              "        text-align: right;\n",
              "    }\n",
              "</style>\n",
              "<table border=\"1\" class=\"dataframe\">\n",
              "  <thead>\n",
              "    <tr style=\"text-align: right;\">\n",
              "      <th></th>\n",
              "      <th>Time</th>\n",
              "      <th>V1</th>\n",
              "      <th>V2</th>\n",
              "      <th>V3</th>\n",
              "      <th>V4</th>\n",
              "      <th>V5</th>\n",
              "      <th>V6</th>\n",
              "      <th>V7</th>\n",
              "      <th>V8</th>\n",
              "      <th>V9</th>\n",
              "      <th>V10</th>\n",
              "      <th>V11</th>\n",
              "      <th>V12</th>\n",
              "      <th>V13</th>\n",
              "      <th>V14</th>\n",
              "      <th>V15</th>\n",
              "      <th>V16</th>\n",
              "      <th>V17</th>\n",
              "      <th>V18</th>\n",
              "      <th>V19</th>\n",
              "      <th>V20</th>\n",
              "      <th>V21</th>\n",
              "      <th>V22</th>\n",
              "      <th>V23</th>\n",
              "      <th>V24</th>\n",
              "      <th>V25</th>\n",
              "      <th>V26</th>\n",
              "      <th>V27</th>\n",
              "      <th>V28</th>\n",
              "      <th>Amount</th>\n",
              "      <th>Class</th>\n",
              "      <th>scaledAmount</th>\n",
              "    </tr>\n",
              "  </thead>\n",
              "  <tbody>\n",
              "    <tr>\n",
              "      <th>0</th>\n",
              "      <td>0.0</td>\n",
              "      <td>-1.359807</td>\n",
              "      <td>-0.072781</td>\n",
              "      <td>2.536347</td>\n",
              "      <td>1.378155</td>\n",
              "      <td>-0.338321</td>\n",
              "      <td>0.462388</td>\n",
              "      <td>0.239599</td>\n",
              "      <td>0.098698</td>\n",
              "      <td>0.363787</td>\n",
              "      <td>0.090794</td>\n",
              "      <td>-0.551600</td>\n",
              "      <td>-0.617801</td>\n",
              "      <td>-0.991390</td>\n",
              "      <td>-0.311169</td>\n",
              "      <td>1.468177</td>\n",
              "      <td>-0.470401</td>\n",
              "      <td>0.207971</td>\n",
              "      <td>0.025791</td>\n",
              "      <td>0.403993</td>\n",
              "      <td>0.251412</td>\n",
              "      <td>-0.018307</td>\n",
              "      <td>0.277838</td>\n",
              "      <td>-0.110474</td>\n",
              "      <td>0.066928</td>\n",
              "      <td>0.128539</td>\n",
              "      <td>-0.189115</td>\n",
              "      <td>0.133558</td>\n",
              "      <td>-0.021053</td>\n",
              "      <td>149.62</td>\n",
              "      <td>0</td>\n",
              "      <td>0.244964</td>\n",
              "    </tr>\n",
              "    <tr>\n",
              "      <th>1</th>\n",
              "      <td>0.0</td>\n",
              "      <td>1.191857</td>\n",
              "      <td>0.266151</td>\n",
              "      <td>0.166480</td>\n",
              "      <td>0.448154</td>\n",
              "      <td>0.060018</td>\n",
              "      <td>-0.082361</td>\n",
              "      <td>-0.078803</td>\n",
              "      <td>0.085102</td>\n",
              "      <td>-0.255425</td>\n",
              "      <td>-0.166974</td>\n",
              "      <td>1.612727</td>\n",
              "      <td>1.065235</td>\n",
              "      <td>0.489095</td>\n",
              "      <td>-0.143772</td>\n",
              "      <td>0.635558</td>\n",
              "      <td>0.463917</td>\n",
              "      <td>-0.114805</td>\n",
              "      <td>-0.183361</td>\n",
              "      <td>-0.145783</td>\n",
              "      <td>-0.069083</td>\n",
              "      <td>-0.225775</td>\n",
              "      <td>-0.638672</td>\n",
              "      <td>0.101288</td>\n",
              "      <td>-0.339846</td>\n",
              "      <td>0.167170</td>\n",
              "      <td>0.125895</td>\n",
              "      <td>-0.008983</td>\n",
              "      <td>0.014724</td>\n",
              "      <td>2.69</td>\n",
              "      <td>0</td>\n",
              "      <td>-0.342475</td>\n",
              "    </tr>\n",
              "    <tr>\n",
              "      <th>2</th>\n",
              "      <td>1.0</td>\n",
              "      <td>-1.358354</td>\n",
              "      <td>-1.340163</td>\n",
              "      <td>1.773209</td>\n",
              "      <td>0.379780</td>\n",
              "      <td>-0.503198</td>\n",
              "      <td>1.800499</td>\n",
              "      <td>0.791461</td>\n",
              "      <td>0.247676</td>\n",
              "      <td>-1.514654</td>\n",
              "      <td>0.207643</td>\n",
              "      <td>0.624501</td>\n",
              "      <td>0.066084</td>\n",
              "      <td>0.717293</td>\n",
              "      <td>-0.165946</td>\n",
              "      <td>2.345865</td>\n",
              "      <td>-2.890083</td>\n",
              "      <td>1.109969</td>\n",
              "      <td>-0.121359</td>\n",
              "      <td>-2.261857</td>\n",
              "      <td>0.524980</td>\n",
              "      <td>0.247998</td>\n",
              "      <td>0.771679</td>\n",
              "      <td>0.909412</td>\n",
              "      <td>-0.689281</td>\n",
              "      <td>-0.327642</td>\n",
              "      <td>-0.139097</td>\n",
              "      <td>-0.055353</td>\n",
              "      <td>-0.059752</td>\n",
              "      <td>378.66</td>\n",
              "      <td>0</td>\n",
              "      <td>1.160686</td>\n",
              "    </tr>\n",
              "    <tr>\n",
              "      <th>3</th>\n",
              "      <td>1.0</td>\n",
              "      <td>-0.966272</td>\n",
              "      <td>-0.185226</td>\n",
              "      <td>1.792993</td>\n",
              "      <td>-0.863291</td>\n",
              "      <td>-0.010309</td>\n",
              "      <td>1.247203</td>\n",
              "      <td>0.237609</td>\n",
              "      <td>0.377436</td>\n",
              "      <td>-1.387024</td>\n",
              "      <td>-0.054952</td>\n",
              "      <td>-0.226487</td>\n",
              "      <td>0.178228</td>\n",
              "      <td>0.507757</td>\n",
              "      <td>-0.287924</td>\n",
              "      <td>-0.631418</td>\n",
              "      <td>-1.059647</td>\n",
              "      <td>-0.684093</td>\n",
              "      <td>1.965775</td>\n",
              "      <td>-1.232622</td>\n",
              "      <td>-0.208038</td>\n",
              "      <td>-0.108300</td>\n",
              "      <td>0.005274</td>\n",
              "      <td>-0.190321</td>\n",
              "      <td>-1.175575</td>\n",
              "      <td>0.647376</td>\n",
              "      <td>-0.221929</td>\n",
              "      <td>0.062723</td>\n",
              "      <td>0.061458</td>\n",
              "      <td>123.50</td>\n",
              "      <td>0</td>\n",
              "      <td>0.140534</td>\n",
              "    </tr>\n",
              "    <tr>\n",
              "      <th>4</th>\n",
              "      <td>2.0</td>\n",
              "      <td>-1.158233</td>\n",
              "      <td>0.877737</td>\n",
              "      <td>1.548718</td>\n",
              "      <td>0.403034</td>\n",
              "      <td>-0.407193</td>\n",
              "      <td>0.095921</td>\n",
              "      <td>0.592941</td>\n",
              "      <td>-0.270533</td>\n",
              "      <td>0.817739</td>\n",
              "      <td>0.753074</td>\n",
              "      <td>-0.822843</td>\n",
              "      <td>0.538196</td>\n",
              "      <td>1.345852</td>\n",
              "      <td>-1.119670</td>\n",
              "      <td>0.175121</td>\n",
              "      <td>-0.451449</td>\n",
              "      <td>-0.237033</td>\n",
              "      <td>-0.038195</td>\n",
              "      <td>0.803487</td>\n",
              "      <td>0.408542</td>\n",
              "      <td>-0.009431</td>\n",
              "      <td>0.798278</td>\n",
              "      <td>-0.137458</td>\n",
              "      <td>0.141267</td>\n",
              "      <td>-0.206010</td>\n",
              "      <td>0.502292</td>\n",
              "      <td>0.219422</td>\n",
              "      <td>0.215153</td>\n",
              "      <td>69.99</td>\n",
              "      <td>0</td>\n",
              "      <td>-0.073403</td>\n",
              "    </tr>\n",
              "  </tbody>\n",
              "</table>\n",
              "</div>"
            ],
            "text/plain": [
              "   Time        V1        V2        V3  ...       V28  Amount  Class  scaledAmount\n",
              "0   0.0 -1.359807 -0.072781  2.536347  ... -0.021053  149.62      0      0.244964\n",
              "1   0.0  1.191857  0.266151  0.166480  ...  0.014724    2.69      0     -0.342475\n",
              "2   1.0 -1.358354 -1.340163  1.773209  ... -0.059752  378.66      0      1.160686\n",
              "3   1.0 -0.966272 -0.185226  1.792993  ...  0.061458  123.50      0      0.140534\n",
              "4   2.0 -1.158233  0.877737  1.548718  ...  0.215153   69.99      0     -0.073403\n",
              "\n",
              "[5 rows x 32 columns]"
            ]
          },
          "metadata": {
            "tags": []
          },
          "execution_count": 69
        }
      ]
    },
    {
      "cell_type": "code",
      "metadata": {
        "id": "Nqht3I03t6kv",
        "colab_type": "code",
        "colab": {}
      },
      "source": [
        "dataset=dataset.drop(columns=['Amount'])"
      ],
      "execution_count": 0,
      "outputs": []
    },
    {
      "cell_type": "code",
      "metadata": {
        "id": "7SCU4WgRuI1u",
        "colab_type": "code",
        "colab": {}
      },
      "source": [
        "y=dataset['Class']"
      ],
      "execution_count": 0,
      "outputs": []
    },
    {
      "cell_type": "code",
      "metadata": {
        "id": "rWo9gj1kuqrl",
        "colab_type": "code",
        "colab": {}
      },
      "source": [
        "dataset=dataset.drop(columns=['Class'])"
      ],
      "execution_count": 0,
      "outputs": []
    },
    {
      "cell_type": "code",
      "metadata": {
        "id": "6x1JqNI9uzUv",
        "colab_type": "code",
        "outputId": "12c31809-3443-40f2-a63c-8c0c009cce41",
        "colab": {
          "base_uri": "https://localhost:8080/",
          "height": 68
        }
      },
      "source": [
        "y.value_counts()"
      ],
      "execution_count": 0,
      "outputs": [
        {
          "output_type": "execute_result",
          "data": {
            "text/plain": [
              "0    284315\n",
              "1       492\n",
              "Name: Class, dtype: int64"
            ]
          },
          "metadata": {
            "tags": []
          },
          "execution_count": 20
        }
      ]
    },
    {
      "cell_type": "code",
      "metadata": {
        "id": "KoolIHNYu0mP",
        "colab_type": "code",
        "colab": {}
      },
      "source": [
        "from sklearn.model_selection import train_test_split"
      ],
      "execution_count": 0,
      "outputs": []
    },
    {
      "cell_type": "code",
      "metadata": {
        "id": "OlYkdUxTz9iA",
        "colab_type": "code",
        "colab": {}
      },
      "source": [
        "x_train,x_test,y_train,y_test=train_test_split(dataset,y,test_size=0.3,random_state=0)"
      ],
      "execution_count": 0,
      "outputs": []
    },
    {
      "cell_type": "code",
      "metadata": {
        "id": "GCsxzIj40eKg",
        "colab_type": "code",
        "outputId": "f35efff7-e1ca-425c-d0d7-3e38db91835d",
        "colab": {
          "base_uri": "https://localhost:8080/",
          "height": 68
        }
      },
      "source": [
        "y_train.value_counts()"
      ],
      "execution_count": 0,
      "outputs": [
        {
          "output_type": "execute_result",
          "data": {
            "text/plain": [
              "0    199019\n",
              "1       345\n",
              "Name: Class, dtype: int64"
            ]
          },
          "metadata": {
            "tags": []
          },
          "execution_count": 23
        }
      ]
    },
    {
      "cell_type": "code",
      "metadata": {
        "id": "ifghdYMh0hjA",
        "colab_type": "code",
        "outputId": "95b101b7-4596-497a-b492-92e5ed2f4275",
        "colab": {
          "base_uri": "https://localhost:8080/",
          "height": 68
        }
      },
      "source": [
        "y_test.value_counts()"
      ],
      "execution_count": 0,
      "outputs": [
        {
          "output_type": "execute_result",
          "data": {
            "text/plain": [
              "0    85296\n",
              "1      147\n",
              "Name: Class, dtype: int64"
            ]
          },
          "metadata": {
            "tags": []
          },
          "execution_count": 24
        }
      ]
    },
    {
      "cell_type": "code",
      "metadata": {
        "id": "V06BZqSf0m6b",
        "colab_type": "code",
        "outputId": "929bfc5f-8373-4b56-f892-091b6acd5d68",
        "colab": {
          "base_uri": "https://localhost:8080/",
          "height": 224
        }
      },
      "source": [
        "x_train.head()"
      ],
      "execution_count": 0,
      "outputs": [
        {
          "output_type": "execute_result",
          "data": {
            "text/html": [
              "<div>\n",
              "<style scoped>\n",
              "    .dataframe tbody tr th:only-of-type {\n",
              "        vertical-align: middle;\n",
              "    }\n",
              "\n",
              "    .dataframe tbody tr th {\n",
              "        vertical-align: top;\n",
              "    }\n",
              "\n",
              "    .dataframe thead th {\n",
              "        text-align: right;\n",
              "    }\n",
              "</style>\n",
              "<table border=\"1\" class=\"dataframe\">\n",
              "  <thead>\n",
              "    <tr style=\"text-align: right;\">\n",
              "      <th></th>\n",
              "      <th>Time</th>\n",
              "      <th>V1</th>\n",
              "      <th>V2</th>\n",
              "      <th>V3</th>\n",
              "      <th>V4</th>\n",
              "      <th>V5</th>\n",
              "      <th>V6</th>\n",
              "      <th>V7</th>\n",
              "      <th>V8</th>\n",
              "      <th>V9</th>\n",
              "      <th>V10</th>\n",
              "      <th>V11</th>\n",
              "      <th>V12</th>\n",
              "      <th>V13</th>\n",
              "      <th>V14</th>\n",
              "      <th>V15</th>\n",
              "      <th>V16</th>\n",
              "      <th>V17</th>\n",
              "      <th>V18</th>\n",
              "      <th>V19</th>\n",
              "      <th>V20</th>\n",
              "      <th>V21</th>\n",
              "      <th>V22</th>\n",
              "      <th>V23</th>\n",
              "      <th>V24</th>\n",
              "      <th>V25</th>\n",
              "      <th>V26</th>\n",
              "      <th>V27</th>\n",
              "      <th>V28</th>\n",
              "      <th>scaledAmount</th>\n",
              "    </tr>\n",
              "  </thead>\n",
              "  <tbody>\n",
              "    <tr>\n",
              "      <th>161145</th>\n",
              "      <td>113921.0</td>\n",
              "      <td>-0.132066</td>\n",
              "      <td>0.107044</td>\n",
              "      <td>-0.650588</td>\n",
              "      <td>-0.996032</td>\n",
              "      <td>1.814333</td>\n",
              "      <td>1.740740</td>\n",
              "      <td>0.496852</td>\n",
              "      <td>0.633016</td>\n",
              "      <td>0.017181</td>\n",
              "      <td>-0.362707</td>\n",
              "      <td>0.527911</td>\n",
              "      <td>0.505396</td>\n",
              "      <td>-0.742107</td>\n",
              "      <td>0.492430</td>\n",
              "      <td>-0.163585</td>\n",
              "      <td>-0.950404</td>\n",
              "      <td>0.262987</td>\n",
              "      <td>-1.760767</td>\n",
              "      <td>-0.939037</td>\n",
              "      <td>-0.062612</td>\n",
              "      <td>-0.062489</td>\n",
              "      <td>0.005292</td>\n",
              "      <td>0.251519</td>\n",
              "      <td>-2.466810</td>\n",
              "      <td>-0.889690</td>\n",
              "      <td>0.337462</td>\n",
              "      <td>0.306395</td>\n",
              "      <td>0.074817</td>\n",
              "      <td>-0.161761</td>\n",
              "    </tr>\n",
              "    <tr>\n",
              "      <th>204520</th>\n",
              "      <td>135319.0</td>\n",
              "      <td>2.125994</td>\n",
              "      <td>0.014207</td>\n",
              "      <td>-1.514760</td>\n",
              "      <td>0.115021</td>\n",
              "      <td>0.598510</td>\n",
              "      <td>-0.333235</td>\n",
              "      <td>0.199289</td>\n",
              "      <td>-0.264353</td>\n",
              "      <td>0.384111</td>\n",
              "      <td>0.028747</td>\n",
              "      <td>-1.208334</td>\n",
              "      <td>0.838156</td>\n",
              "      <td>1.511476</td>\n",
              "      <td>-0.042076</td>\n",
              "      <td>-0.002894</td>\n",
              "      <td>0.080270</td>\n",
              "      <td>-0.658905</td>\n",
              "      <td>-0.747678</td>\n",
              "      <td>0.431762</td>\n",
              "      <td>-0.086076</td>\n",
              "      <td>-0.329368</td>\n",
              "      <td>-0.788150</td>\n",
              "      <td>0.267730</td>\n",
              "      <td>0.066122</td>\n",
              "      <td>-0.135785</td>\n",
              "      <td>0.203841</td>\n",
              "      <td>-0.068267</td>\n",
              "      <td>-0.057678</td>\n",
              "      <td>-0.345313</td>\n",
              "    </tr>\n",
              "    <tr>\n",
              "      <th>182659</th>\n",
              "      <td>125498.0</td>\n",
              "      <td>-0.086694</td>\n",
              "      <td>0.166240</td>\n",
              "      <td>1.573127</td>\n",
              "      <td>0.687266</td>\n",
              "      <td>0.222359</td>\n",
              "      <td>1.102606</td>\n",
              "      <td>1.575093</td>\n",
              "      <td>-1.098608</td>\n",
              "      <td>0.763887</td>\n",
              "      <td>1.404677</td>\n",
              "      <td>1.346697</td>\n",
              "      <td>0.140822</td>\n",
              "      <td>0.159637</td>\n",
              "      <td>-1.147153</td>\n",
              "      <td>0.664997</td>\n",
              "      <td>-0.133032</td>\n",
              "      <td>-1.267675</td>\n",
              "      <td>0.818995</td>\n",
              "      <td>0.405276</td>\n",
              "      <td>0.052960</td>\n",
              "      <td>0.015324</td>\n",
              "      <td>1.063663</td>\n",
              "      <td>-0.410841</td>\n",
              "      <td>0.722723</td>\n",
              "      <td>-0.171733</td>\n",
              "      <td>-0.613543</td>\n",
              "      <td>-1.201571</td>\n",
              "      <td>-1.139931</td>\n",
              "      <td>0.326845</td>\n",
              "    </tr>\n",
              "    <tr>\n",
              "      <th>25117</th>\n",
              "      <td>33520.0</td>\n",
              "      <td>1.352339</td>\n",
              "      <td>-0.534984</td>\n",
              "      <td>0.555143</td>\n",
              "      <td>-0.629355</td>\n",
              "      <td>-1.144170</td>\n",
              "      <td>-0.852967</td>\n",
              "      <td>-0.642128</td>\n",
              "      <td>-0.032659</td>\n",
              "      <td>-0.654482</td>\n",
              "      <td>0.619206</td>\n",
              "      <td>0.103615</td>\n",
              "      <td>-1.067971</td>\n",
              "      <td>-1.227629</td>\n",
              "      <td>0.197196</td>\n",
              "      <td>1.151364</td>\n",
              "      <td>0.846905</td>\n",
              "      <td>0.710309</td>\n",
              "      <td>-1.963506</td>\n",
              "      <td>0.130406</td>\n",
              "      <td>-0.066712</td>\n",
              "      <td>-0.014814</td>\n",
              "      <td>-0.180379</td>\n",
              "      <td>0.178112</td>\n",
              "      <td>0.347720</td>\n",
              "      <td>0.151810</td>\n",
              "      <td>-0.404361</td>\n",
              "      <td>0.013746</td>\n",
              "      <td>0.016152</td>\n",
              "      <td>-0.329401</td>\n",
              "    </tr>\n",
              "    <tr>\n",
              "      <th>227642</th>\n",
              "      <td>145152.0</td>\n",
              "      <td>-1.526760</td>\n",
              "      <td>0.647782</td>\n",
              "      <td>0.615391</td>\n",
              "      <td>-0.561114</td>\n",
              "      <td>0.836950</td>\n",
              "      <td>-0.514251</td>\n",
              "      <td>0.984325</td>\n",
              "      <td>-0.097430</td>\n",
              "      <td>-0.062634</td>\n",
              "      <td>-1.033567</td>\n",
              "      <td>-0.706095</td>\n",
              "      <td>-0.612354</td>\n",
              "      <td>-0.336939</td>\n",
              "      <td>-1.384147</td>\n",
              "      <td>0.314279</td>\n",
              "      <td>0.552201</td>\n",
              "      <td>0.512582</td>\n",
              "      <td>0.370183</td>\n",
              "      <td>-0.163736</td>\n",
              "      <td>-0.073333</td>\n",
              "      <td>-0.221533</td>\n",
              "      <td>-0.393158</td>\n",
              "      <td>-0.214990</td>\n",
              "      <td>0.588447</td>\n",
              "      <td>0.679496</td>\n",
              "      <td>0.518434</td>\n",
              "      <td>0.065022</td>\n",
              "      <td>0.147294</td>\n",
              "      <td>0.006398</td>\n",
              "    </tr>\n",
              "  </tbody>\n",
              "</table>\n",
              "</div>"
            ],
            "text/plain": [
              "            Time        V1        V2  ...       V27       V28  scaledAmount\n",
              "161145  113921.0 -0.132066  0.107044  ...  0.306395  0.074817     -0.161761\n",
              "204520  135319.0  2.125994  0.014207  ... -0.068267 -0.057678     -0.345313\n",
              "182659  125498.0 -0.086694  0.166240  ... -1.201571 -1.139931      0.326845\n",
              "25117    33520.0  1.352339 -0.534984  ...  0.013746  0.016152     -0.329401\n",
              "227642  145152.0 -1.526760  0.647782  ...  0.065022  0.147294      0.006398\n",
              "\n",
              "[5 rows x 30 columns]"
            ]
          },
          "metadata": {
            "tags": []
          },
          "execution_count": 25
        }
      ]
    },
    {
      "cell_type": "code",
      "metadata": {
        "id": "92X9fWJg0rGA",
        "colab_type": "code",
        "outputId": "63fa2ff0-c8d0-4d5b-c33c-1eecd66b0702",
        "colab": {
          "base_uri": "https://localhost:8080/",
          "height": 34
        }
      },
      "source": [
        "x_train.shape"
      ],
      "execution_count": 0,
      "outputs": [
        {
          "output_type": "execute_result",
          "data": {
            "text/plain": [
              "(199364, 30)"
            ]
          },
          "metadata": {
            "tags": []
          },
          "execution_count": 26
        }
      ]
    },
    {
      "cell_type": "code",
      "metadata": {
        "id": "y2llui4Y0ygP",
        "colab_type": "code",
        "outputId": "c2e5e278-218c-4997-dd8b-c59f11d1b9e2",
        "colab": {
          "base_uri": "https://localhost:8080/",
          "height": 34
        }
      },
      "source": [
        "y_train.shape"
      ],
      "execution_count": 0,
      "outputs": [
        {
          "output_type": "execute_result",
          "data": {
            "text/plain": [
              "(199364,)"
            ]
          },
          "metadata": {
            "tags": []
          },
          "execution_count": 27
        }
      ]
    },
    {
      "cell_type": "code",
      "metadata": {
        "id": "m2ISEurl01RP",
        "colab_type": "code",
        "colab": {}
      },
      "source": [
        "x_train=np.array(x_train)\n",
        "x_test=np.array(x_test)\n",
        "y_train=np.array(y_train)\n",
        "y_test=np.array(y_test)\n"
      ],
      "execution_count": 0,
      "outputs": []
    },
    {
      "cell_type": "code",
      "metadata": {
        "id": "jKO0tVFFJGAS",
        "colab_type": "code",
        "outputId": "527896cc-b544-4283-f01b-9967946fb8e6",
        "colab": {
          "base_uri": "https://localhost:8080/",
          "height": 238
        }
      },
      "source": [
        "x_train"
      ],
      "execution_count": 0,
      "outputs": [
        {
          "output_type": "execute_result",
          "data": {
            "text/plain": [
              "array([[ 1.13921000e+05, -1.32066260e-01,  1.07043551e-01, ...,\n",
              "         3.06394657e-01,  7.48169663e-02, -1.61761045e-01],\n",
              "       [ 1.35319000e+05,  2.12599441e+00,  1.42074055e-02, ...,\n",
              "        -6.82673794e-02, -5.76775883e-02, -3.45313182e-01],\n",
              "       [ 1.25498000e+05, -8.66939700e-02,  1.66240223e-01, ...,\n",
              "        -1.20157065e+00, -1.13993068e+00,  3.26845069e-01],\n",
              "       ...,\n",
              "       [ 7.66160000e+04,  1.51260229e+00, -9.49435315e-01, ...,\n",
              "        -1.41537086e-03,  3.66494418e-03, -2.13696185e-01],\n",
              "       [ 9.72530000e+04,  1.79886333e+00, -1.69979073e+00, ...,\n",
              "        -3.36155803e-02, -3.24705125e-02,  3.31682753e-01],\n",
              "       [ 7.48870000e+04, -5.89399721e-01,  7.47828393e-01, ...,\n",
              "         8.65917860e-02,  1.18083774e-01, -2.89299995e-01]])"
            ]
          },
          "metadata": {
            "tags": []
          },
          "execution_count": 29
        }
      ]
    },
    {
      "cell_type": "code",
      "metadata": {
        "id": "1PJM5G7IOmQK",
        "colab_type": "code",
        "outputId": "6d7c63b6-7857-488e-c9fc-eeaef230ebcc",
        "colab": {
          "base_uri": "https://localhost:8080/",
          "height": 34
        }
      },
      "source": [
        "x_train.shape"
      ],
      "execution_count": 0,
      "outputs": [
        {
          "output_type": "execute_result",
          "data": {
            "text/plain": [
              "(199364, 30)"
            ]
          },
          "metadata": {
            "tags": []
          },
          "execution_count": 30
        }
      ]
    },
    {
      "cell_type": "code",
      "metadata": {
        "id": "oy68WJa9JHZc",
        "colab_type": "code",
        "outputId": "019133a7-7f8f-4163-b785-01366fde1138",
        "colab": {
          "base_uri": "https://localhost:8080/",
          "height": 34
        }
      },
      "source": [
        "import keras"
      ],
      "execution_count": 0,
      "outputs": [
        {
          "output_type": "stream",
          "text": [
            "Using TensorFlow backend.\n"
          ],
          "name": "stderr"
        }
      ]
    },
    {
      "cell_type": "code",
      "metadata": {
        "id": "Z5itaVlfJK9s",
        "colab_type": "code",
        "colab": {}
      },
      "source": [
        "from keras.models import Sequential\n",
        "from keras.layers import Dense\n",
        "from keras.layers import Dropout"
      ],
      "execution_count": 0,
      "outputs": []
    },
    {
      "cell_type": "code",
      "metadata": {
        "id": "dNFrFi9VJdls",
        "colab_type": "code",
        "outputId": "e3315740-0401-4286-e7db-e7a6149dc1c7",
        "colab": {
          "base_uri": "https://localhost:8080/",
          "height": 88
        }
      },
      "source": [
        "model=Sequential()"
      ],
      "execution_count": 0,
      "outputs": [
        {
          "output_type": "stream",
          "text": [
            "WARNING: Logging before flag parsing goes to stderr.\n",
            "W0817 11:43:22.225238 140657337874304 deprecation_wrapper.py:119] From /usr/local/lib/python3.6/dist-packages/keras/backend/tensorflow_backend.py:74: The name tf.get_default_graph is deprecated. Please use tf.compat.v1.get_default_graph instead.\n",
            "\n"
          ],
          "name": "stderr"
        }
      ]
    },
    {
      "cell_type": "code",
      "metadata": {
        "id": "QmejgXoxJ3Ft",
        "colab_type": "code",
        "outputId": "b16c50e4-3ee1-4cf1-afc6-15bdbea17054",
        "colab": {
          "base_uri": "https://localhost:8080/",
          "height": 190
        }
      },
      "source": [
        "model.add(Dense(units=16,input_dim=30 ,activation='relu'))\n",
        "model.add(Dense(units=24, activation='relu'))\n",
        "model.add(Dropout(0.5))\n",
        "model.add(Dense(units=20, activation='relu'))\n",
        "model.add(Dense(units=24, activation='relu'))\n",
        "model.add(Dense(1,activation='sigmoid'))"
      ],
      "execution_count": 0,
      "outputs": [
        {
          "output_type": "stream",
          "text": [
            "W0817 11:43:26.868875 140657337874304 deprecation_wrapper.py:119] From /usr/local/lib/python3.6/dist-packages/keras/backend/tensorflow_backend.py:517: The name tf.placeholder is deprecated. Please use tf.compat.v1.placeholder instead.\n",
            "\n",
            "W0817 11:43:26.881676 140657337874304 deprecation_wrapper.py:119] From /usr/local/lib/python3.6/dist-packages/keras/backend/tensorflow_backend.py:4138: The name tf.random_uniform is deprecated. Please use tf.random.uniform instead.\n",
            "\n",
            "W0817 11:43:26.910334 140657337874304 deprecation_wrapper.py:119] From /usr/local/lib/python3.6/dist-packages/keras/backend/tensorflow_backend.py:133: The name tf.placeholder_with_default is deprecated. Please use tf.compat.v1.placeholder_with_default instead.\n",
            "\n",
            "W0817 11:43:26.919771 140657337874304 deprecation.py:506] From /usr/local/lib/python3.6/dist-packages/keras/backend/tensorflow_backend.py:3445: calling dropout (from tensorflow.python.ops.nn_ops) with keep_prob is deprecated and will be removed in a future version.\n",
            "Instructions for updating:\n",
            "Please use `rate` instead of `keep_prob`. Rate should be set to `rate = 1 - keep_prob`.\n"
          ],
          "name": "stderr"
        }
      ]
    },
    {
      "cell_type": "code",
      "metadata": {
        "id": "5hRK-6o8NRPt",
        "colab_type": "code",
        "outputId": "a56640ba-1271-4c39-9517-7bb8d288015e",
        "colab": {
          "base_uri": "https://localhost:8080/",
          "height": 34
        }
      },
      "source": [
        "model"
      ],
      "execution_count": 0,
      "outputs": [
        {
          "output_type": "execute_result",
          "data": {
            "text/plain": [
              "<keras.engine.sequential.Sequential at 0x7f783361e828>"
            ]
          },
          "metadata": {
            "tags": []
          },
          "execution_count": 36
        }
      ]
    },
    {
      "cell_type": "code",
      "metadata": {
        "id": "_Awv95KhNlvt",
        "colab_type": "code",
        "outputId": "2b840646-88a8-49a4-d597-2c3a1743d180",
        "colab": {
          "base_uri": "https://localhost:8080/",
          "height": 156
        }
      },
      "source": [
        "model.compile(loss='binary_crossentropy',\n",
        "              optimizer='adam',\n",
        "              metrics=['accuracy'])"
      ],
      "execution_count": 0,
      "outputs": [
        {
          "output_type": "stream",
          "text": [
            "W0817 11:43:35.227077 140657337874304 deprecation_wrapper.py:119] From /usr/local/lib/python3.6/dist-packages/keras/optimizers.py:790: The name tf.train.Optimizer is deprecated. Please use tf.compat.v1.train.Optimizer instead.\n",
            "\n",
            "W0817 11:43:35.254809 140657337874304 deprecation_wrapper.py:119] From /usr/local/lib/python3.6/dist-packages/keras/backend/tensorflow_backend.py:3376: The name tf.log is deprecated. Please use tf.math.log instead.\n",
            "\n",
            "W0817 11:43:35.261632 140657337874304 deprecation.py:323] From /usr/local/lib/python3.6/dist-packages/tensorflow/python/ops/nn_impl.py:180: add_dispatch_support.<locals>.wrapper (from tensorflow.python.ops.array_ops) is deprecated and will be removed in a future version.\n",
            "Instructions for updating:\n",
            "Use tf.where in 2.0, which has the same broadcast rule as np.where\n"
          ],
          "name": "stderr"
        }
      ]
    },
    {
      "cell_type": "code",
      "metadata": {
        "id": "WI9NwfO1OOyG",
        "colab_type": "code",
        "outputId": "3b7d1b27-66c0-4572-beb4-d09e5cd5426a",
        "colab": {
          "base_uri": "https://localhost:8080/",
          "height": 204
        }
      },
      "source": [
        "model.fit(x_train,y_train,batch_size=15,epochs=5)"
      ],
      "execution_count": 0,
      "outputs": [
        {
          "output_type": "stream",
          "text": [
            "Epoch 1/5\n",
            "199364/199364 [==============================] - 59s 295us/step - loss: 0.0390 - acc: 0.9976\n",
            "Epoch 2/5\n",
            "199364/199364 [==============================] - 57s 284us/step - loss: 0.0279 - acc: 0.9983\n",
            "Epoch 3/5\n",
            "199364/199364 [==============================] - 55s 274us/step - loss: 0.0279 - acc: 0.9983\n",
            "Epoch 4/5\n",
            "199364/199364 [==============================] - 54s 272us/step - loss: 0.0279 - acc: 0.9983\n",
            "Epoch 5/5\n",
            "199364/199364 [==============================] - 55s 278us/step - loss: 0.0279 - acc: 0.9983\n"
          ],
          "name": "stdout"
        },
        {
          "output_type": "execute_result",
          "data": {
            "text/plain": [
              "<keras.callbacks.History at 0x7f780eec0518>"
            ]
          },
          "metadata": {
            "tags": []
          },
          "execution_count": 38
        }
      ]
    },
    {
      "cell_type": "code",
      "metadata": {
        "id": "BLOwEo6JOh5d",
        "colab_type": "code",
        "outputId": "12c935ec-b2f5-4c4a-8ca2-4efc675fc600",
        "colab": {
          "base_uri": "https://localhost:8080/",
          "height": 34
        }
      },
      "source": [
        "score = model.evaluate(x_test,y_test)"
      ],
      "execution_count": 0,
      "outputs": [
        {
          "output_type": "stream",
          "text": [
            "85443/85443 [==============================] - 4s 42us/step\n"
          ],
          "name": "stdout"
        }
      ]
    },
    {
      "cell_type": "code",
      "metadata": {
        "id": "lzbAWjckQbwu",
        "colab_type": "code",
        "outputId": "a08ec077-0af8-4b94-985a-a987bf2d357f",
        "colab": {
          "base_uri": "https://localhost:8080/",
          "height": 34
        }
      },
      "source": [
        "score"
      ],
      "execution_count": 0,
      "outputs": [
        {
          "output_type": "execute_result",
          "data": {
            "text/plain": [
              "[0.02773039776138444, 0.9982795547909132]"
            ]
          },
          "metadata": {
            "tags": []
          },
          "execution_count": 40
        }
      ]
    },
    {
      "cell_type": "markdown",
      "metadata": {
        "id": "An-1DIxEQf0j",
        "colab_type": "text"
      },
      "source": [
        "99% accuracy ..... not suprsing since 0.172% data is 1(fraud)"
      ]
    },
    {
      "cell_type": "code",
      "metadata": {
        "id": "CUhaUkakQd1u",
        "colab_type": "code",
        "colab": {}
      },
      "source": [
        "from sklearn.metrics import classification_report,confusion_matrix,accuracy_score"
      ],
      "execution_count": 0,
      "outputs": []
    },
    {
      "cell_type": "code",
      "metadata": {
        "id": "2e-7_f2QRYf3",
        "colab_type": "code",
        "colab": {}
      },
      "source": [
        "y_pred=model.predict(x_test)"
      ],
      "execution_count": 0,
      "outputs": []
    },
    {
      "cell_type": "code",
      "metadata": {
        "id": "uPG3VxlCRMqO",
        "colab_type": "code",
        "colab": {}
      },
      "source": [
        "cm = confusion_matrix(y_test,y_pred.round())"
      ],
      "execution_count": 0,
      "outputs": []
    },
    {
      "cell_type": "code",
      "metadata": {
        "id": "FhEHMPONR6qe",
        "colab_type": "code",
        "outputId": "d18427f7-34c6-4eeb-ffff-c562391ed199",
        "colab": {
          "base_uri": "https://localhost:8080/",
          "height": 51
        }
      },
      "source": [
        "cm"
      ],
      "execution_count": 0,
      "outputs": [
        {
          "output_type": "execute_result",
          "data": {
            "text/plain": [
              "array([[85296,     0],\n",
              "       [  147,     0]])"
            ]
          },
          "metadata": {
            "tags": []
          },
          "execution_count": 44
        }
      ]
    },
    {
      "cell_type": "code",
      "metadata": {
        "id": "iSkpFWZvSIsO",
        "colab_type": "code",
        "outputId": "bdbb5a25-7df6-4ef1-938c-5b5e29f43349",
        "colab": {
          "base_uri": "https://localhost:8080/",
          "height": 224
        }
      },
      "source": [
        "print(classification_report(y_test,y_pred.round()))"
      ],
      "execution_count": 0,
      "outputs": [
        {
          "output_type": "stream",
          "text": [
            "              precision    recall  f1-score   support\n",
            "\n",
            "           0       1.00      1.00      1.00     85296\n",
            "           1       0.00      0.00      0.00       147\n",
            "\n",
            "    accuracy                           1.00     85443\n",
            "   macro avg       0.50      0.50      0.50     85443\n",
            "weighted avg       1.00      1.00      1.00     85443\n",
            "\n"
          ],
          "name": "stdout"
        },
        {
          "output_type": "stream",
          "text": [
            "/usr/local/lib/python3.6/dist-packages/sklearn/metrics/classification.py:1437: UndefinedMetricWarning: Precision and F-score are ill-defined and being set to 0.0 in labels with no predicted samples.\n",
            "  'precision', 'predicted', average, warn_for)\n"
          ],
          "name": "stderr"
        }
      ]
    },
    {
      "cell_type": "code",
      "metadata": {
        "id": "t8TZ5iJENpfZ",
        "colab_type": "code",
        "colab": {}
      },
      "source": [
        "from sklearn.ensemble import RandomForestClassifier"
      ],
      "execution_count": 0,
      "outputs": []
    },
    {
      "cell_type": "code",
      "metadata": {
        "id": "lxkub04HTK_A",
        "colab_type": "code",
        "colab": {}
      },
      "source": [
        "rf=RandomForestClassifier(100)"
      ],
      "execution_count": 0,
      "outputs": []
    },
    {
      "cell_type": "code",
      "metadata": {
        "id": "v2QmDpqdTTao",
        "colab_type": "code",
        "outputId": "dd353911-a6e9-4cd5-8e66-bacf645760ac",
        "colab": {
          "base_uri": "https://localhost:8080/",
          "height": 136
        }
      },
      "source": [
        "rf.fit(x_train,y_train)"
      ],
      "execution_count": 0,
      "outputs": [
        {
          "output_type": "execute_result",
          "data": {
            "text/plain": [
              "RandomForestClassifier(bootstrap=True, class_weight=None, criterion='gini',\n",
              "                       max_depth=None, max_features='auto', max_leaf_nodes=None,\n",
              "                       min_impurity_decrease=0.0, min_impurity_split=None,\n",
              "                       min_samples_leaf=1, min_samples_split=2,\n",
              "                       min_weight_fraction_leaf=0.0, n_estimators=100,\n",
              "                       n_jobs=None, oob_score=False, random_state=None,\n",
              "                       verbose=0, warm_start=False)"
            ]
          },
          "metadata": {
            "tags": []
          },
          "execution_count": 52
        }
      ]
    },
    {
      "cell_type": "code",
      "metadata": {
        "id": "N-lIrtHJTb0o",
        "colab_type": "code",
        "outputId": "03277052-4119-41b0-9d5f-355eded7597c",
        "colab": {
          "base_uri": "https://localhost:8080/",
          "height": 34
        }
      },
      "source": [
        "y_test.shape\n"
      ],
      "execution_count": 0,
      "outputs": [
        {
          "output_type": "execute_result",
          "data": {
            "text/plain": [
              "(85443,)"
            ]
          },
          "metadata": {
            "tags": []
          },
          "execution_count": 59
        }
      ]
    },
    {
      "cell_type": "code",
      "metadata": {
        "id": "AsXqzw_rUT-Z",
        "colab_type": "code",
        "colab": {}
      },
      "source": [
        "predrf=rf.predict(x_test)"
      ],
      "execution_count": 0,
      "outputs": []
    },
    {
      "cell_type": "code",
      "metadata": {
        "id": "9ghrRoGZVSj4",
        "colab_type": "code",
        "colab": {}
      },
      "source": [
        "cm_rf=confusion_matrix(y_test,predrf)"
      ],
      "execution_count": 0,
      "outputs": []
    },
    {
      "cell_type": "code",
      "metadata": {
        "id": "LuczTeCbV_wb",
        "colab_type": "code",
        "outputId": "f86e62dc-ece3-4caf-9de5-3528a59e5e68",
        "colab": {
          "base_uri": "https://localhost:8080/",
          "height": 51
        }
      },
      "source": [
        "cm_rf"
      ],
      "execution_count": 0,
      "outputs": [
        {
          "output_type": "execute_result",
          "data": {
            "text/plain": [
              "array([[85289,     7],\n",
              "       [   36,   111]])"
            ]
          },
          "metadata": {
            "tags": []
          },
          "execution_count": 63
        }
      ]
    },
    {
      "cell_type": "code",
      "metadata": {
        "id": "9oVjG99tWA3L",
        "colab_type": "code",
        "colab": {}
      },
      "source": [
        "#@title Time for sampling\n",
        "#Oversampling\n"
      ],
      "execution_count": 0,
      "outputs": []
    },
    {
      "cell_type": "code",
      "metadata": {
        "id": "ZtGj0iPTbe8f",
        "colab_type": "code",
        "outputId": "11dc6f92-8d90-40f8-a85e-d27b29555ac5",
        "colab": {
          "base_uri": "https://localhost:8080/",
          "height": 241
        }
      },
      "source": [
        "!pip install -U imbalanced-learn"
      ],
      "execution_count": 0,
      "outputs": [
        {
          "output_type": "stream",
          "text": [
            "Collecting imbalanced-learn\n",
            "\u001b[?25l  Downloading https://files.pythonhosted.org/packages/e6/62/08c14224a7e242df2cef7b312d2ef821c3931ec9b015ff93bb52ec8a10a3/imbalanced_learn-0.5.0-py3-none-any.whl (173kB)\n",
            "\r\u001b[K     |██                              | 10kB 21.1MB/s eta 0:00:01\r\u001b[K     |███▉                            | 20kB 27.9MB/s eta 0:00:01\r\u001b[K     |█████▊                          | 30kB 34.4MB/s eta 0:00:01\r\u001b[K     |███████▋                        | 40kB 32.6MB/s eta 0:00:01\r\u001b[K     |█████████▌                      | 51kB 36.0MB/s eta 0:00:01\r\u001b[K     |███████████▍                    | 61kB 39.8MB/s eta 0:00:01\r\u001b[K     |█████████████▎                  | 71kB 31.4MB/s eta 0:00:01\r\u001b[K     |███████████████▏                | 81kB 32.5MB/s eta 0:00:01\r\u001b[K     |█████████████████               | 92kB 34.5MB/s eta 0:00:01\r\u001b[K     |███████████████████             | 102kB 32.6MB/s eta 0:00:01\r\u001b[K     |████████████████████▉           | 112kB 32.6MB/s eta 0:00:01\r\u001b[K     |██████████████████████▊         | 122kB 32.6MB/s eta 0:00:01\r\u001b[K     |████████████████████████▋       | 133kB 32.6MB/s eta 0:00:01\r\u001b[K     |██████████████████████████▌     | 143kB 32.6MB/s eta 0:00:01\r\u001b[K     |████████████████████████████▍   | 153kB 32.6MB/s eta 0:00:01\r\u001b[K     |██████████████████████████████▎ | 163kB 32.6MB/s eta 0:00:01\r\u001b[K     |████████████████████████████████| 174kB 32.6MB/s \n",
            "\u001b[?25hRequirement already satisfied, skipping upgrade: numpy>=1.11 in /usr/local/lib/python3.6/dist-packages (from imbalanced-learn) (1.16.4)\n",
            "Requirement already satisfied, skipping upgrade: joblib>=0.11 in /usr/local/lib/python3.6/dist-packages (from imbalanced-learn) (0.13.2)\n",
            "Requirement already satisfied, skipping upgrade: scipy>=0.17 in /usr/local/lib/python3.6/dist-packages (from imbalanced-learn) (1.3.1)\n",
            "Requirement already satisfied, skipping upgrade: scikit-learn>=0.21 in /usr/local/lib/python3.6/dist-packages (from imbalanced-learn) (0.21.3)\n",
            "Installing collected packages: imbalanced-learn\n",
            "  Found existing installation: imbalanced-learn 0.4.3\n",
            "    Uninstalling imbalanced-learn-0.4.3:\n",
            "      Successfully uninstalled imbalanced-learn-0.4.3\n",
            "Successfully installed imbalanced-learn-0.5.0\n"
          ],
          "name": "stdout"
        }
      ]
    },
    {
      "cell_type": "code",
      "metadata": {
        "id": "AWVzWTDQbUfQ",
        "colab_type": "code",
        "colab": {}
      },
      "source": [
        "from imblearn.over_sampling import SMOTE"
      ],
      "execution_count": 0,
      "outputs": []
    },
    {
      "cell_type": "code",
      "metadata": {
        "id": "xunzZH5BcRpp",
        "colab_type": "code",
        "colab": {}
      },
      "source": [
        "x_re,y_re=SMOTE().fit_sample(dataset,y)"
      ],
      "execution_count": 0,
      "outputs": []
    },
    {
      "cell_type": "code",
      "metadata": {
        "id": "Nq_cjVFTc3r4",
        "colab_type": "code",
        "outputId": "5d39c2f1-387c-4452-e5ee-fabac0d76868",
        "colab": {
          "base_uri": "https://localhost:8080/",
          "height": 1000
        }
      },
      "source": [
        "y_re"
      ],
      "execution_count": 0,
      "outputs": [
        {
          "output_type": "execute_result",
          "data": {
            "text/html": [
              "<div>\n",
              "<style scoped>\n",
              "    .dataframe tbody tr th:only-of-type {\n",
              "        vertical-align: middle;\n",
              "    }\n",
              "\n",
              "    .dataframe tbody tr th {\n",
              "        vertical-align: top;\n",
              "    }\n",
              "\n",
              "    .dataframe thead th {\n",
              "        text-align: right;\n",
              "    }\n",
              "</style>\n",
              "<table border=\"1\" class=\"dataframe\">\n",
              "  <thead>\n",
              "    <tr style=\"text-align: right;\">\n",
              "      <th></th>\n",
              "      <th>0</th>\n",
              "    </tr>\n",
              "  </thead>\n",
              "  <tbody>\n",
              "    <tr>\n",
              "      <th>0</th>\n",
              "      <td>0</td>\n",
              "    </tr>\n",
              "    <tr>\n",
              "      <th>1</th>\n",
              "      <td>0</td>\n",
              "    </tr>\n",
              "    <tr>\n",
              "      <th>2</th>\n",
              "      <td>0</td>\n",
              "    </tr>\n",
              "    <tr>\n",
              "      <th>3</th>\n",
              "      <td>0</td>\n",
              "    </tr>\n",
              "    <tr>\n",
              "      <th>4</th>\n",
              "      <td>0</td>\n",
              "    </tr>\n",
              "    <tr>\n",
              "      <th>5</th>\n",
              "      <td>0</td>\n",
              "    </tr>\n",
              "    <tr>\n",
              "      <th>6</th>\n",
              "      <td>0</td>\n",
              "    </tr>\n",
              "    <tr>\n",
              "      <th>7</th>\n",
              "      <td>0</td>\n",
              "    </tr>\n",
              "    <tr>\n",
              "      <th>8</th>\n",
              "      <td>0</td>\n",
              "    </tr>\n",
              "    <tr>\n",
              "      <th>9</th>\n",
              "      <td>0</td>\n",
              "    </tr>\n",
              "    <tr>\n",
              "      <th>10</th>\n",
              "      <td>0</td>\n",
              "    </tr>\n",
              "    <tr>\n",
              "      <th>11</th>\n",
              "      <td>0</td>\n",
              "    </tr>\n",
              "    <tr>\n",
              "      <th>12</th>\n",
              "      <td>0</td>\n",
              "    </tr>\n",
              "    <tr>\n",
              "      <th>13</th>\n",
              "      <td>0</td>\n",
              "    </tr>\n",
              "    <tr>\n",
              "      <th>14</th>\n",
              "      <td>0</td>\n",
              "    </tr>\n",
              "    <tr>\n",
              "      <th>15</th>\n",
              "      <td>0</td>\n",
              "    </tr>\n",
              "    <tr>\n",
              "      <th>16</th>\n",
              "      <td>0</td>\n",
              "    </tr>\n",
              "    <tr>\n",
              "      <th>17</th>\n",
              "      <td>0</td>\n",
              "    </tr>\n",
              "    <tr>\n",
              "      <th>18</th>\n",
              "      <td>0</td>\n",
              "    </tr>\n",
              "    <tr>\n",
              "      <th>19</th>\n",
              "      <td>0</td>\n",
              "    </tr>\n",
              "    <tr>\n",
              "      <th>20</th>\n",
              "      <td>0</td>\n",
              "    </tr>\n",
              "    <tr>\n",
              "      <th>21</th>\n",
              "      <td>0</td>\n",
              "    </tr>\n",
              "    <tr>\n",
              "      <th>22</th>\n",
              "      <td>0</td>\n",
              "    </tr>\n",
              "    <tr>\n",
              "      <th>23</th>\n",
              "      <td>0</td>\n",
              "    </tr>\n",
              "    <tr>\n",
              "      <th>24</th>\n",
              "      <td>0</td>\n",
              "    </tr>\n",
              "    <tr>\n",
              "      <th>25</th>\n",
              "      <td>0</td>\n",
              "    </tr>\n",
              "    <tr>\n",
              "      <th>26</th>\n",
              "      <td>0</td>\n",
              "    </tr>\n",
              "    <tr>\n",
              "      <th>27</th>\n",
              "      <td>0</td>\n",
              "    </tr>\n",
              "    <tr>\n",
              "      <th>28</th>\n",
              "      <td>0</td>\n",
              "    </tr>\n",
              "    <tr>\n",
              "      <th>29</th>\n",
              "      <td>0</td>\n",
              "    </tr>\n",
              "    <tr>\n",
              "      <th>...</th>\n",
              "      <td>...</td>\n",
              "    </tr>\n",
              "    <tr>\n",
              "      <th>568600</th>\n",
              "      <td>1</td>\n",
              "    </tr>\n",
              "    <tr>\n",
              "      <th>568601</th>\n",
              "      <td>1</td>\n",
              "    </tr>\n",
              "    <tr>\n",
              "      <th>568602</th>\n",
              "      <td>1</td>\n",
              "    </tr>\n",
              "    <tr>\n",
              "      <th>568603</th>\n",
              "      <td>1</td>\n",
              "    </tr>\n",
              "    <tr>\n",
              "      <th>568604</th>\n",
              "      <td>1</td>\n",
              "    </tr>\n",
              "    <tr>\n",
              "      <th>568605</th>\n",
              "      <td>1</td>\n",
              "    </tr>\n",
              "    <tr>\n",
              "      <th>568606</th>\n",
              "      <td>1</td>\n",
              "    </tr>\n",
              "    <tr>\n",
              "      <th>568607</th>\n",
              "      <td>1</td>\n",
              "    </tr>\n",
              "    <tr>\n",
              "      <th>568608</th>\n",
              "      <td>1</td>\n",
              "    </tr>\n",
              "    <tr>\n",
              "      <th>568609</th>\n",
              "      <td>1</td>\n",
              "    </tr>\n",
              "    <tr>\n",
              "      <th>568610</th>\n",
              "      <td>1</td>\n",
              "    </tr>\n",
              "    <tr>\n",
              "      <th>568611</th>\n",
              "      <td>1</td>\n",
              "    </tr>\n",
              "    <tr>\n",
              "      <th>568612</th>\n",
              "      <td>1</td>\n",
              "    </tr>\n",
              "    <tr>\n",
              "      <th>568613</th>\n",
              "      <td>1</td>\n",
              "    </tr>\n",
              "    <tr>\n",
              "      <th>568614</th>\n",
              "      <td>1</td>\n",
              "    </tr>\n",
              "    <tr>\n",
              "      <th>568615</th>\n",
              "      <td>1</td>\n",
              "    </tr>\n",
              "    <tr>\n",
              "      <th>568616</th>\n",
              "      <td>1</td>\n",
              "    </tr>\n",
              "    <tr>\n",
              "      <th>568617</th>\n",
              "      <td>1</td>\n",
              "    </tr>\n",
              "    <tr>\n",
              "      <th>568618</th>\n",
              "      <td>1</td>\n",
              "    </tr>\n",
              "    <tr>\n",
              "      <th>568619</th>\n",
              "      <td>1</td>\n",
              "    </tr>\n",
              "    <tr>\n",
              "      <th>568620</th>\n",
              "      <td>1</td>\n",
              "    </tr>\n",
              "    <tr>\n",
              "      <th>568621</th>\n",
              "      <td>1</td>\n",
              "    </tr>\n",
              "    <tr>\n",
              "      <th>568622</th>\n",
              "      <td>1</td>\n",
              "    </tr>\n",
              "    <tr>\n",
              "      <th>568623</th>\n",
              "      <td>1</td>\n",
              "    </tr>\n",
              "    <tr>\n",
              "      <th>568624</th>\n",
              "      <td>1</td>\n",
              "    </tr>\n",
              "    <tr>\n",
              "      <th>568625</th>\n",
              "      <td>1</td>\n",
              "    </tr>\n",
              "    <tr>\n",
              "      <th>568626</th>\n",
              "      <td>1</td>\n",
              "    </tr>\n",
              "    <tr>\n",
              "      <th>568627</th>\n",
              "      <td>1</td>\n",
              "    </tr>\n",
              "    <tr>\n",
              "      <th>568628</th>\n",
              "      <td>1</td>\n",
              "    </tr>\n",
              "    <tr>\n",
              "      <th>568629</th>\n",
              "      <td>1</td>\n",
              "    </tr>\n",
              "  </tbody>\n",
              "</table>\n",
              "<p>568630 rows × 1 columns</p>\n",
              "</div>"
            ],
            "text/plain": [
              "        0\n",
              "0       0\n",
              "1       0\n",
              "2       0\n",
              "3       0\n",
              "4       0\n",
              "5       0\n",
              "6       0\n",
              "7       0\n",
              "8       0\n",
              "9       0\n",
              "10      0\n",
              "11      0\n",
              "12      0\n",
              "13      0\n",
              "14      0\n",
              "15      0\n",
              "16      0\n",
              "17      0\n",
              "18      0\n",
              "19      0\n",
              "20      0\n",
              "21      0\n",
              "22      0\n",
              "23      0\n",
              "24      0\n",
              "25      0\n",
              "26      0\n",
              "27      0\n",
              "28      0\n",
              "29      0\n",
              "...    ..\n",
              "568600  1\n",
              "568601  1\n",
              "568602  1\n",
              "568603  1\n",
              "568604  1\n",
              "568605  1\n",
              "568606  1\n",
              "568607  1\n",
              "568608  1\n",
              "568609  1\n",
              "568610  1\n",
              "568611  1\n",
              "568612  1\n",
              "568613  1\n",
              "568614  1\n",
              "568615  1\n",
              "568616  1\n",
              "568617  1\n",
              "568618  1\n",
              "568619  1\n",
              "568620  1\n",
              "568621  1\n",
              "568622  1\n",
              "568623  1\n",
              "568624  1\n",
              "568625  1\n",
              "568626  1\n",
              "568627  1\n",
              "568628  1\n",
              "568629  1\n",
              "\n",
              "[568630 rows x 1 columns]"
            ]
          },
          "metadata": {
            "tags": []
          },
          "execution_count": 38
        }
      ]
    },
    {
      "cell_type": "code",
      "metadata": {
        "id": "wFTcqYUpdci-",
        "colab_type": "code",
        "colab": {}
      },
      "source": [
        "x_re=pd.DataFrame(x_re)\n",
        "y_re=pd.DataFrame(y_re)"
      ],
      "execution_count": 0,
      "outputs": []
    },
    {
      "cell_type": "code",
      "metadata": {
        "id": "hGZNh4oQYTSW",
        "colab_type": "code",
        "colab": {}
      },
      "source": [
        "x_train,x_test,y_train,y_test=train_test_split(x_re,y_re,test_size=0.3,random_state=0)"
      ],
      "execution_count": 0,
      "outputs": []
    },
    {
      "cell_type": "code",
      "metadata": {
        "id": "38LUwPdSYp6w",
        "colab_type": "code",
        "colab": {}
      },
      "source": [
        "x_train=np.array(x_train)\n",
        "x_test=np.array(x_test)\n",
        "y_train=np.array(y_train)\n",
        "y_test=np.array(y_test)\n"
      ],
      "execution_count": 0,
      "outputs": []
    },
    {
      "cell_type": "code",
      "metadata": {
        "id": "LdWGq_jNYwpg",
        "colab_type": "code",
        "outputId": "d6638fe5-3666-4ca9-c360-117aa158231b",
        "colab": {
          "base_uri": "https://localhost:8080/",
          "height": 204
        }
      },
      "source": [
        "model.fit(x_train,y_train,batch_size=15,epochs=5)"
      ],
      "execution_count": 0,
      "outputs": [
        {
          "output_type": "stream",
          "text": [
            "Epoch 1/5\n",
            "398041/398041 [==============================] - 104s 261us/step - loss: 7.9050 - acc: 0.4999\n",
            "Epoch 2/5\n",
            "398041/398041 [==============================] - 99s 249us/step - loss: 7.7369 - acc: 0.4987\n",
            "Epoch 3/5\n",
            "398041/398041 [==============================] - 98s 247us/step - loss: 6.3406 - acc: 0.4999\n",
            "Epoch 4/5\n",
            "398041/398041 [==============================] - 99s 249us/step - loss: 7.0226 - acc: 0.4993\n",
            "Epoch 5/5\n",
            "398041/398041 [==============================] - 99s 248us/step - loss: 6.6333 - acc: 0.5008\n"
          ],
          "name": "stdout"
        },
        {
          "output_type": "execute_result",
          "data": {
            "text/plain": [
              "<keras.callbacks.History at 0x7fecfc32a3c8>"
            ]
          },
          "metadata": {
            "tags": []
          },
          "execution_count": 44
        }
      ]
    },
    {
      "cell_type": "code",
      "metadata": {
        "id": "qdHeDCWjZBxW",
        "colab_type": "code",
        "colab": {}
      },
      "source": [
        "Pred_re=model.predict(x_test)"
      ],
      "execution_count": 0,
      "outputs": []
    },
    {
      "cell_type": "code",
      "metadata": {
        "id": "Q2btYUTdbaOg",
        "colab_type": "code",
        "outputId": "b607f40f-cbe6-4eab-9f1a-14ab69c8a8c8",
        "colab": {
          "base_uri": "https://localhost:8080/",
          "height": 51
        }
      },
      "source": [
        "cm = confusion_matrix(y_test,Pred_re.round())\n",
        "print(cm)"
      ],
      "execution_count": 0,
      "outputs": [
        {
          "output_type": "stream",
          "text": [
            "[[   41 85131]\n",
            " [    0 85417]]\n"
          ],
          "name": "stdout"
        }
      ]
    },
    {
      "cell_type": "code",
      "metadata": {
        "id": "vH9aUEg7blRQ",
        "colab_type": "code",
        "colab": {}
      },
      "source": [
        "#@title Great Now there is almost non False postive which reduce the work of department\n"
      ],
      "execution_count": 0,
      "outputs": []
    },
    {
      "cell_type": "code",
      "metadata": {
        "id": "cViDvijocN6S",
        "colab_type": "code",
        "outputId": "95a38622-753f-4a1e-84f3-3021d2bb0f01",
        "colab": {
          "base_uri": "https://localhost:8080/",
          "height": 170
        }
      },
      "source": [
        "print(classification_report(y_test,Pred_re.round()))"
      ],
      "execution_count": 0,
      "outputs": [
        {
          "output_type": "stream",
          "text": [
            "              precision    recall  f1-score   support\n",
            "\n",
            "           0       1.00      0.00      0.00     85172\n",
            "           1       0.50      1.00      0.67     85417\n",
            "\n",
            "    accuracy                           0.50    170589\n",
            "   macro avg       0.75      0.50      0.33    170589\n",
            "weighted avg       0.75      0.50      0.33    170589\n",
            "\n"
          ],
          "name": "stdout"
        }
      ]
    },
    {
      "cell_type": "markdown",
      "metadata": {
        "id": "HQv3GFPdg3Et",
        "colab_type": "text"
      },
      "source": [
        "better recall model"
      ]
    },
    {
      "cell_type": "code",
      "metadata": {
        "id": "twiqipnhgrkS",
        "colab_type": "code",
        "colab": {}
      },
      "source": [
        ""
      ],
      "execution_count": 0,
      "outputs": []
    }
  ]
}